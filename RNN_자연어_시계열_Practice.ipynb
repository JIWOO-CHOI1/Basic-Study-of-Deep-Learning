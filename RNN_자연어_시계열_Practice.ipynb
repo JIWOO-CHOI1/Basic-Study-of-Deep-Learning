{
  "nbformat": 4,
  "nbformat_minor": 0,
  "metadata": {
    "kernelspec": {
      "display_name": "Python 3",
      "language": "python",
      "name": "python3"
    },
    "language_info": {
      "codemirror_mode": {
        "name": "ipython",
        "version": 3
      },
      "file_extension": ".py",
      "mimetype": "text/x-python",
      "name": "python",
      "nbconvert_exporter": "python",
      "pygments_lexer": "ipython3",
      "version": "3.8.5"
    },
    "colab": {
      "provenance": [],
      "toc_visible": true
    },
    "accelerator": "GPU"
  },
  "cells": [
    {
      "cell_type": "markdown",
      "metadata": {
        "id": "JQWS8opF9q5t"
      },
      "source": [
        "# RNN 실습"
      ]
    },
    {
      "cell_type": "markdown",
      "metadata": {
        "id": "1NbWAge89q5z"
      },
      "source": [
        "## 뉴스 카테고리 분류"
      ]
    },
    {
      "cell_type": "code",
      "metadata": {
        "id": "I7fkZh5r9q50"
      },
      "source": [
        "# -*- coding: utf-8 -*-\n",
        "# 코드 내부에 한글을 사용가능 하게 해주는 부분입니다.\n",
        "\n",
        "import numpy\n",
        "import tensorflow as tf\n",
        "import matplotlib.pyplot as plt\n",
        "\n",
        "# 로이터 뉴스 데이터셋 불러오기\n",
        "from keras.datasets import reuters\n",
        "from keras.models import Sequential\n",
        "#from tensorflow.keras.models import Sequential\n",
        "#from tensorflow.keras.layers import Dense,LSTM,Embedding\n",
        "from keras.layers import Dense, LSTM, Embedding\n",
        "from keras.preprocessing import sequence\n",
        "from keras.utils import np_utils"
      ],
      "execution_count": null,
      "outputs": []
    },
    {
      "cell_type": "code",
      "metadata": {
        "colab": {
          "base_uri": "https://localhost:8080/"
        },
        "id": "8lSWq1MPRHx2",
        "outputId": "38a90f01-fcce-4909-887f-9ccc2fe83114"
      },
      "source": [
        "from google.colab import drive\n",
        "drive.mount('/content/drive')"
      ],
      "execution_count": null,
      "outputs": [
        {
          "output_type": "stream",
          "text": [
            "Drive already mounted at /content/drive; to attempt to forcibly remount, call drive.mount(\"/content/drive\", force_remount=True).\n"
          ],
          "name": "stdout"
        }
      ]
    },
    {
      "cell_type": "code",
      "metadata": {
        "id": "IzC2iu-P9q50"
      },
      "source": [
        "# seed 값 설정\n",
        "seed = 0\n",
        "numpy.random.seed(seed)\n",
        "tf.random.set_seed(3)"
      ],
      "execution_count": null,
      "outputs": []
    },
    {
      "cell_type": "code",
      "metadata": {
        "id": "vigmE2pg9q51",
        "colab": {
          "base_uri": "https://localhost:8080/"
        },
        "outputId": "070cab39-40c0-4442-e5cf-6631f0da78e6"
      },
      "source": [
        "# 불러온 데이터를 학습셋, 테스트셋으로 나누기\n",
        "(X_train, Y_train), (X_test, Y_test) = reuters.load_data(num_words=1000, test_split=0.2)\n",
        "\n",
        "# 데이터 확인하기\n",
        "category = numpy.max(Y_train) + 1\n",
        "print(category, '카테고리')\n",
        "print(len(X_train), '학습용 뉴스 기사')\n",
        "print(len(X_test), '테스트용 뉴스 기사')\n",
        "print(X_train[0])"
      ],
      "execution_count": null,
      "outputs": [
        {
          "output_type": "stream",
          "text": [
            "46 카테고리\n",
            "8982 학습용 뉴스 기사\n",
            "2246 테스트용 뉴스 기사\n",
            "[1, 2, 2, 8, 43, 10, 447, 5, 25, 207, 270, 5, 2, 111, 16, 369, 186, 90, 67, 7, 89, 5, 19, 102, 6, 19, 124, 15, 90, 67, 84, 22, 482, 26, 7, 48, 4, 49, 8, 864, 39, 209, 154, 6, 151, 6, 83, 11, 15, 22, 155, 11, 15, 7, 48, 9, 2, 2, 504, 6, 258, 6, 272, 11, 15, 22, 134, 44, 11, 15, 16, 8, 197, 2, 90, 67, 52, 29, 209, 30, 32, 132, 6, 109, 15, 17, 12]\n"
          ],
          "name": "stdout"
        },
        {
          "output_type": "stream",
          "text": [
            "/usr/local/lib/python3.6/dist-packages/tensorflow/python/keras/datasets/reuters.py:148: VisibleDeprecationWarning: Creating an ndarray from ragged nested sequences (which is a list-or-tuple of lists-or-tuples-or ndarrays with different lengths or shapes) is deprecated. If you meant to do this, you must specify 'dtype=object' when creating the ndarray\n",
            "  x_train, y_train = np.array(xs[:idx]), np.array(labels[:idx])\n",
            "/usr/local/lib/python3.6/dist-packages/tensorflow/python/keras/datasets/reuters.py:149: VisibleDeprecationWarning: Creating an ndarray from ragged nested sequences (which is a list-or-tuple of lists-or-tuples-or ndarrays with different lengths or shapes) is deprecated. If you meant to do this, you must specify 'dtype=object' when creating the ndarray\n",
            "  x_test, y_test = np.array(xs[idx:]), np.array(labels[idx:])\n"
          ],
          "name": "stderr"
        }
      ]
    },
    {
      "cell_type": "code",
      "metadata": {
        "id": "c5O1-u-K9q52"
      },
      "source": [
        "# 데이터 전처리\n",
        "x_train = sequence.pad_sequences(X_train, maxlen=100)\n",
        "x_test = sequence.pad_sequences(X_test, maxlen=100)\n",
        "y_train = np_utils.to_categorical(Y_train)\n",
        "y_test = np_utils.to_categorical(Y_test)"
      ],
      "execution_count": null,
      "outputs": []
    },
    {
      "cell_type": "code",
      "metadata": {
        "id": "LcIrvnIw9q52"
      },
      "source": [
        "# 모델의 설정\n",
        "model = Sequential()\n",
        "model.add(Embedding(1000, 100))\n",
        "model.add(LSTM(100, activation='tanh'))\n",
        "model.add(Dense(46, activation='softmax'))"
      ],
      "execution_count": null,
      "outputs": []
    },
    {
      "cell_type": "code",
      "metadata": {
        "id": "O-rYYMfw9q53"
      },
      "source": [
        "# 모델의 컴파일\n",
        "model.compile(loss='categorical_crossentropy',\n",
        "            optimizer='adam',\n",
        "            metrics=['accuracy'])"
      ],
      "execution_count": null,
      "outputs": []
    },
    {
      "cell_type": "code",
      "metadata": {
        "scrolled": true,
        "id": "lDwbzR-n9q53",
        "colab": {
          "base_uri": "https://localhost:8080/"
        },
        "outputId": "bdacdb78-b5ad-4519-9b69-408e785848be"
      },
      "source": [
        "# 모델의 실행\n",
        "history = model.fit(x_train, y_train, batch_size=100, epochs=20, validation_data=(x_test, y_test))"
      ],
      "execution_count": null,
      "outputs": [
        {
          "output_type": "stream",
          "text": [
            "Epoch 1/20\n",
            "90/90 [==============================] - 10s 21ms/step - loss: 2.9665 - accuracy: 0.3179 - val_loss: 2.1698 - val_accuracy: 0.4488\n",
            "Epoch 2/20\n",
            "90/90 [==============================] - 1s 13ms/step - loss: 2.0567 - accuracy: 0.4787 - val_loss: 1.9571 - val_accuracy: 0.5067\n",
            "Epoch 3/20\n",
            "90/90 [==============================] - 1s 13ms/step - loss: 1.9226 - accuracy: 0.5094 - val_loss: 1.8247 - val_accuracy: 0.5276\n",
            "Epoch 4/20\n",
            "90/90 [==============================] - 1s 13ms/step - loss: 1.7704 - accuracy: 0.5380 - val_loss: 1.8054 - val_accuracy: 0.5396\n",
            "Epoch 5/20\n",
            "90/90 [==============================] - 1s 13ms/step - loss: 1.7909 - accuracy: 0.5182 - val_loss: 1.6961 - val_accuracy: 0.5663\n",
            "Epoch 6/20\n",
            "90/90 [==============================] - 1s 13ms/step - loss: 1.6659 - accuracy: 0.5728 - val_loss: 1.6630 - val_accuracy: 0.5837\n",
            "Epoch 7/20\n",
            "90/90 [==============================] - 1s 12ms/step - loss: 1.6435 - accuracy: 0.5794 - val_loss: 1.6226 - val_accuracy: 0.5984\n",
            "Epoch 8/20\n",
            "90/90 [==============================] - 1s 13ms/step - loss: 1.4977 - accuracy: 0.6259 - val_loss: 1.4937 - val_accuracy: 0.6354\n",
            "Epoch 9/20\n",
            "90/90 [==============================] - 1s 12ms/step - loss: 1.4049 - accuracy: 0.6477 - val_loss: 1.5211 - val_accuracy: 0.6362\n",
            "Epoch 10/20\n",
            "90/90 [==============================] - 1s 13ms/step - loss: 1.3957 - accuracy: 0.6501 - val_loss: 1.4282 - val_accuracy: 0.6362\n",
            "Epoch 11/20\n",
            "90/90 [==============================] - 1s 12ms/step - loss: 1.3069 - accuracy: 0.6649 - val_loss: 1.3592 - val_accuracy: 0.6572\n",
            "Epoch 12/20\n",
            "90/90 [==============================] - 1s 13ms/step - loss: 1.2141 - accuracy: 0.6931 - val_loss: 1.3428 - val_accuracy: 0.6509\n",
            "Epoch 13/20\n",
            "90/90 [==============================] - 1s 13ms/step - loss: 1.1220 - accuracy: 0.7070 - val_loss: 1.2925 - val_accuracy: 0.6714\n",
            "Epoch 14/20\n",
            "90/90 [==============================] - 1s 13ms/step - loss: 1.0838 - accuracy: 0.7193 - val_loss: 1.2523 - val_accuracy: 0.6781\n",
            "Epoch 15/20\n",
            "90/90 [==============================] - 1s 13ms/step - loss: 1.0466 - accuracy: 0.7317 - val_loss: 1.2858 - val_accuracy: 0.6821\n",
            "Epoch 16/20\n",
            "90/90 [==============================] - 1s 12ms/step - loss: 1.0190 - accuracy: 0.7378 - val_loss: 1.2578 - val_accuracy: 0.6825\n",
            "Epoch 17/20\n",
            "90/90 [==============================] - 1s 13ms/step - loss: 0.9197 - accuracy: 0.7632 - val_loss: 1.2307 - val_accuracy: 0.7008\n",
            "Epoch 18/20\n",
            "90/90 [==============================] - 1s 12ms/step - loss: 0.8361 - accuracy: 0.7863 - val_loss: 1.2083 - val_accuracy: 0.7012\n",
            "Epoch 19/20\n",
            "90/90 [==============================] - 1s 14ms/step - loss: 0.8528 - accuracy: 0.7877 - val_loss: 1.1876 - val_accuracy: 0.7057\n",
            "Epoch 20/20\n",
            "90/90 [==============================] - 1s 13ms/step - loss: 0.8329 - accuracy: 0.7915 - val_loss: 1.2043 - val_accuracy: 0.7124\n"
          ],
          "name": "stdout"
        }
      ]
    },
    {
      "cell_type": "code",
      "metadata": {
        "id": "OD5Rap9A9q53",
        "colab": {
          "base_uri": "https://localhost:8080/"
        },
        "outputId": "408efb41-3038-43b9-94d9-2562af63eedc"
      },
      "source": [
        "# 테스트 정확도 출력\n",
        "print(\"\\n Test Accuracy: %.4f\" % (model.evaluate(x_test, y_test)[1]))"
      ],
      "execution_count": null,
      "outputs": [
        {
          "output_type": "stream",
          "text": [
            "71/71 [==============================] - 0s 6ms/step - loss: 1.2043 - accuracy: 0.7124\n",
            "\n",
            " Test Accuracy: 0.7124\n"
          ],
          "name": "stdout"
        }
      ]
    },
    {
      "cell_type": "code",
      "metadata": {
        "id": "PKJu3oqd9q54"
      },
      "source": [
        "# 테스트 셋의 오차\n",
        "y_vloss = history.history['val_loss']"
      ],
      "execution_count": null,
      "outputs": []
    },
    {
      "cell_type": "code",
      "metadata": {
        "id": "JJ8Qq2mQ9q54"
      },
      "source": [
        "# 학습셋의 오차\n",
        "y_loss = history.history['loss']"
      ],
      "execution_count": null,
      "outputs": []
    },
    {
      "cell_type": "code",
      "metadata": {
        "id": "hli5o-uy9q54",
        "colab": {
          "base_uri": "https://localhost:8080/",
          "height": 279
        },
        "outputId": "0a52c0f8-3152-44f1-8877-92c51cf22d20"
      },
      "source": [
        "# 그래프로 표현\n",
        "x_len = numpy.arange(len(y_loss))\n",
        "plt.plot(x_len, y_vloss, marker='.', c=\"red\", label='Testset_loss')\n",
        "plt.plot(x_len, y_loss, marker='.', c=\"blue\", label='Trainset_loss')\n",
        "\n",
        "# 그래프에 그리드를 주고 레이블을 표시\n",
        "plt.legend(loc='upper right')\n",
        "plt.grid()\n",
        "plt.xlabel('epoch')\n",
        "plt.ylabel('loss')\n",
        "plt.show()"
      ],
      "execution_count": null,
      "outputs": [
        {
          "output_type": "display_data",
          "data": {
            "image/png": "[encoded data removed]",
            "text/plain": [
              "<Figure size 432x288 with 1 Axes>"
            ]
          },
          "metadata": {
            "tags": [],
            "needs_background": "light"
          }
        }
      ]
    },
    {
      "cell_type": "markdown",
      "metadata": {
        "id": "l2d6CyoO9q54"
      },
      "source": [
        "## IMDB 데이터셋 감성 분석"
      ]
    },
    {
      "cell_type": "code",
      "metadata": {
        "id": "n6TyxVqv9q55"
      },
      "source": [
        "# -*- coding: utf-8 -*-\n",
        "# 코드 내부에 한글을 사용가능 하게 해주는 부분입니다.\n",
        "\n",
        "from keras.preprocessing import sequence\n",
        "from keras.models import Sequential\n",
        "from keras.layers import Dense, Dropout, Activation\n",
        "from keras.layers import Embedding\n",
        "from keras.layers import LSTM\n",
        "from keras.layers import Conv1D, MaxPooling1D\n",
        "from keras.datasets import imdb\n",
        "\n",
        "import numpy\n",
        "import tensorflow as tf\n",
        "import matplotlib.pyplot as plt\n",
        "\n",
        "# seed 값 설정\n",
        "seed = 0\n",
        "numpy.random.seed(seed)\n",
        "tf.random.set_seed(3)"
      ],
      "execution_count": null,
      "outputs": []
    },
    {
      "cell_type": "code",
      "metadata": {
        "colab": {
          "base_uri": "https://localhost:8080/"
        },
        "id": "uqfaoBP1CL4y",
        "outputId": "7d67a5df-161d-42b2-ff6a-9b2c4fa4606a"
      },
      "source": [
        "# 학습셋, 테스트셋 지정하기\n",
        "(x_train, y_train), (x_test, y_test) = imdb.load_data(num_words=5000)"
      ],
      "execution_count": null,
      "outputs": [
        {
          "output_type": "stream",
          "text": [
            "<string>:6: VisibleDeprecationWarning: Creating an ndarray from ragged nested sequences (which is a list-or-tuple of lists-or-tuples-or ndarrays with different lengths or shapes) is deprecated. If you meant to do this, you must specify 'dtype=object' when creating the ndarray\n",
            "/usr/local/lib/python3.6/dist-packages/tensorflow/python/keras/datasets/imdb.py:159: VisibleDeprecationWarning: Creating an ndarray from ragged nested sequences (which is a list-or-tuple of lists-or-tuples-or ndarrays with different lengths or shapes) is deprecated. If you meant to do this, you must specify 'dtype=object' when creating the ndarray\n",
            "  x_train, y_train = np.array(xs[:idx]), np.array(labels[:idx])\n",
            "/usr/local/lib/python3.6/dist-packages/tensorflow/python/keras/datasets/imdb.py:160: VisibleDeprecationWarning: Creating an ndarray from ragged nested sequences (which is a list-or-tuple of lists-or-tuples-or ndarrays with different lengths or shapes) is deprecated. If you meant to do this, you must specify 'dtype=object' when creating the ndarray\n",
            "  x_test, y_test = np.array(xs[idx:]), np.array(labels[idx:])\n"
          ],
          "name": "stderr"
        }
      ]
    },
    {
      "cell_type": "markdown",
      "metadata": {
        "id": "ylIjvf8gSr1F"
      },
      "source": [
        "### 실습: 위의 RNN 텍스트 분류 코드를 참고하여 IMDB 감성 분석을 실시해보세요."
      ]
    },
    {
      "cell_type": "code",
      "metadata": {
        "id": "oQjqfwPH9q55"
      },
      "source": [
        "# 데이터 전처리\n",
        "x_train = sequence.pad_sequences(x_train, maxlen=100)\n",
        "x_test = sequence.pad_sequences(x_test, maxlen=100)"
      ],
      "execution_count": null,
      "outputs": []
    },
    {
      "cell_type": "code",
      "metadata": {
        "colab": {
          "base_uri": "https://localhost:8080/"
        },
        "id": "pJ3GuIHwCADQ",
        "outputId": "54d62281-ea65-4b7b-b68f-47f42d9b9a3b"
      },
      "source": [
        "x_train"
      ],
      "execution_count": null,
      "outputs": [
        {
          "output_type": "execute_result",
          "data": {
            "text/plain": [
              "array([[1415,   33,    6, ...,   19,  178,   32],\n",
              "       [ 163,   11, 3215, ...,   16,  145,   95],\n",
              "       [1301,    4, 1873, ...,    7,  129,  113],\n",
              "       ...,\n",
              "       [  11,    6, 4065, ...,    4, 3586,    2],\n",
              "       [ 100, 2198,    8, ...,   12,    9,   23],\n",
              "       [  78, 1099,   17, ...,  204,  131,    9]], dtype=int32)"
            ]
          },
          "metadata": {
            "tags": []
          },
          "execution_count": 26
        }
      ]
    },
    {
      "cell_type": "code",
      "metadata": {
        "id": "hKrq50D29q55",
        "colab": {
          "base_uri": "https://localhost:8080/"
        },
        "outputId": "46250034-f5c4-4c17-dd33-166650e23897"
      },
      "source": [
        "# 모델의 설정\n",
        "model = Sequential()\n",
        "model.add(Embedding(5000, 100))\n",
        "model.add(Dropout(0.5))\n",
        "model.add(Conv1D(64, 5, padding='valid', activation='relu',strides=1))\n",
        "model.add(MaxPooling1D(pool_size=4))\n",
        "model.add(LSTM(55))\n",
        "model.add(Dense(1))\n",
        "model.add(Activation('sigmoid'))\n",
        "model.summary()"
      ],
      "execution_count": null,
      "outputs": [
        {
          "output_type": "stream",
          "text": [
            "Model: \"sequential_1\"\n",
            "_________________________________________________________________\n",
            "Layer (type)                 Output Shape              Param #   \n",
            "=================================================================\n",
            "embedding_1 (Embedding)      (None, None, 100)         500000    \n",
            "_________________________________________________________________\n",
            "dropout (Dropout)            (None, None, 100)         0         \n",
            "_________________________________________________________________\n",
            "conv1d (Conv1D)              (None, None, 64)          32064     \n",
            "_________________________________________________________________\n",
            "max_pooling1d (MaxPooling1D) (None, None, 64)          0         \n",
            "_________________________________________________________________\n",
            "lstm_1 (LSTM)                (None, 55)                26400     \n",
            "_________________________________________________________________\n",
            "dense_1 (Dense)              (None, 1)                 56        \n",
            "_________________________________________________________________\n",
            "activation (Activation)      (None, 1)                 0         \n",
            "=================================================================\n",
            "Total params: 558,520\n",
            "Trainable params: 558,520\n",
            "Non-trainable params: 0\n",
            "_________________________________________________________________\n"
          ],
          "name": "stdout"
        }
      ]
    },
    {
      "cell_type": "code",
      "metadata": {
        "id": "IUzOh6u99q56"
      },
      "source": [
        "# 모델의 컴파일\n",
        "model.compile(loss='binary_crossentropy',\n",
        "              optimizer='adam',\n",
        "              metrics=['accuracy'])"
      ],
      "execution_count": null,
      "outputs": []
    },
    {
      "cell_type": "code",
      "metadata": {
        "id": "xN1gPiHK9q56",
        "colab": {
          "base_uri": "https://localhost:8080/"
        },
        "outputId": "8c197e30-7669-46b4-e826-8bbeed8f621c"
      },
      "source": [
        "# 모델의 실행\n",
        "history = model.fit(x_train, y_train, batch_size=100, epochs=5, validation_data=(x_test, y_test))"
      ],
      "execution_count": null,
      "outputs": [
        {
          "output_type": "stream",
          "text": [
            "Epoch 1/5\n",
            "250/250 [==============================] - 6s 16ms/step - loss: 0.5558 - accuracy: 0.6809 - val_loss: 0.3678 - val_accuracy: 0.8377\n",
            "Epoch 2/5\n",
            "250/250 [==============================] - 4s 15ms/step - loss: 0.2922 - accuracy: 0.8797 - val_loss: 0.3335 - val_accuracy: 0.8562\n",
            "Epoch 3/5\n",
            "250/250 [==============================] - 4s 15ms/step - loss: 0.2424 - accuracy: 0.8999 - val_loss: 0.3246 - val_accuracy: 0.8594\n",
            "Epoch 4/5\n",
            "250/250 [==============================] - 4s 15ms/step - loss: 0.2000 - accuracy: 0.9229 - val_loss: 0.3286 - val_accuracy: 0.8555\n",
            "Epoch 5/5\n",
            "250/250 [==============================] - 4s 15ms/step - loss: 0.1703 - accuracy: 0.9375 - val_loss: 0.3489 - val_accuracy: 0.8555\n"
          ],
          "name": "stdout"
        }
      ]
    },
    {
      "cell_type": "code",
      "metadata": {
        "id": "cTTOfuup9q56",
        "colab": {
          "base_uri": "https://localhost:8080/"
        },
        "outputId": "c2cf9fc4-73d3-46d5-82ce-f87a9a693a35"
      },
      "source": [
        "# 테스트 정확도 출력\n",
        "print(\"\\n Test Accuracy: %.4f\" % (model.evaluate(x_test, y_test)[1]))"
      ],
      "execution_count": null,
      "outputs": [
        {
          "output_type": "stream",
          "text": [
            "782/782 [==============================] - 3s 3ms/step - loss: 0.3489 - accuracy: 0.8555\n",
            "\n",
            " Test Accuracy: 0.8555\n"
          ],
          "name": "stdout"
        }
      ]
    },
    {
      "cell_type": "code",
      "metadata": {
        "id": "OXZiMZMK9q56"
      },
      "source": [
        "# 테스트 셋의 오차\n",
        "y_vloss = history.history['val_loss']"
      ],
      "execution_count": null,
      "outputs": []
    },
    {
      "cell_type": "code",
      "metadata": {
        "id": "MU4CyW599q57"
      },
      "source": [
        "# 학습셋의 오차\n",
        "y_loss = history.history['loss']"
      ],
      "execution_count": null,
      "outputs": []
    },
    {
      "cell_type": "code",
      "metadata": {
        "id": "c_cjFGL79q57",
        "colab": {
          "base_uri": "https://localhost:8080/",
          "height": 279
        },
        "outputId": "c081950e-b0ef-4c49-d034-7495677c6ee6"
      },
      "source": [
        "# 그래프로 표현\n",
        "x_len = numpy.arange(len(y_loss))\n",
        "plt.plot(x_len, y_vloss, marker='.', c=\"red\", label='Testset_loss')\n",
        "plt.plot(x_len, y_loss, marker='.', c=\"blue\", label='Trainset_loss')\n",
        "\n",
        "# 그래프에 그리드를 주고 레이블을 표시\n",
        "plt.legend(loc='upper right')\n",
        "plt.grid()\n",
        "plt.xlabel('epoch')\n",
        "plt.ylabel('loss')\n",
        "plt.show()"
      ],
      "execution_count": null,
      "outputs": [
        {
          "output_type": "display_data",
          "data": {
            "image/png": "[encoded data removed]",
            "text/plain": [
              "<Figure size 432x288 with 1 Axes>"
            ]
          },
          "metadata": {
            "tags": [],
            "needs_background": "light"
          }
        }
      ]
    },
    {
      "cell_type": "markdown",
      "metadata": {
        "id": "lKnHicn_9q6G"
      },
      "source": [
        "## E-commerce 여성 이용자 리뷰 텍스트 생성"
      ]
    },
    {
      "cell_type": "code",
      "metadata": {
        "id": "ObvtPNOJ9q6G"
      },
      "source": [
        "from tensorflow.keras.layers import Embedding, LSTM, Dense, Bidirectional\n",
        "from tensorflow.keras.preprocessing.sequence import pad_sequences\n",
        "from tensorflow.keras.preprocessing.text import Tokenizer\n",
        "from tensorflow.keras.callbacks import EarlyStopping\n",
        "from tensorflow.keras.models import Sequential\n",
        "from tensorflow.keras.optimizers import Adam\n",
        "import matplotlib.pyplot as plt\n",
        "import tensorflow as tf\n",
        "import pandas as pd\n",
        "import numpy as np"
      ],
      "execution_count": null,
      "outputs": []
    },
    {
      "cell_type": "code",
      "metadata": {
        "id": "y79U_KhQC9LA"
      },
      "source": [
        "import pandas as pd\n",
        "import requests\n",
        "from io import StringIO\n",
        "\n",
        "orig_url='https://drive.google.com/file/d/1W22DJxMQCSpVIrgzS3V1fpckQ2Jjjsj-/view?usp=sharing'\n",
        "file_id = orig_url.split('/')[-2] #파일 id 추출\n",
        "dwn_url='https://drive.google.com/uc?export=download&id=' + file_id #다운로드 url 지정\n",
        "url = requests.get(dwn_url).text #dwn_url을 통해 request\n",
        "csv_raw = StringIO(url) #객체 처리\n",
        "df = pd.read_csv(csv_raw) #추출된 url read"
      ],
      "execution_count": null,
      "outputs": []
    },
    {
      "cell_type": "code",
      "metadata": {
        "id": "ydcymSkbDTWj"
      },
      "source": [
        "df = df.sample(1000)"
      ],
      "execution_count": null,
      "outputs": []
    },
    {
      "cell_type": "code",
      "metadata": {
        "id": "eK5LJyAs9q6G",
        "colab": {
          "base_uri": "https://localhost:8080/"
        },
        "outputId": "2899a201-9db2-419b-be49-ea66a8b8a723"
      },
      "source": [
        "print(f'Shape of data: {df.shape}')\n",
        "# Find the number of missing values\n",
        "print(df.info())"
      ],
      "execution_count": null,
      "outputs": [
        {
          "output_type": "stream",
          "text": [
            "Shape of data: (1000, 11)\n",
            "<class 'pandas.core.frame.DataFrame'>\n",
            "Int64Index: 1000 entries, 12906 to 4853\n",
            "Data columns (total 11 columns):\n",
            " #   Column                   Non-Null Count  Dtype \n",
            "---  ------                   --------------  ----- \n",
            " 0   Unnamed: 0               1000 non-null   int64 \n",
            " 1   Clothing ID              1000 non-null   int64 \n",
            " 2   Age                      1000 non-null   int64 \n",
            " 3   Title                    849 non-null    object\n",
            " 4   Review Text              965 non-null    object\n",
            " 5   Rating                   1000 non-null   int64 \n",
            " 6   Recommended IND          1000 non-null   int64 \n",
            " 7   Positive Feedback Count  1000 non-null   int64 \n",
            " 8   Division Name            998 non-null    object\n",
            " 9   Department Name          998 non-null    object\n",
            " 10  Class Name               998 non-null    object\n",
            "dtypes: int64(6), object(5)\n",
            "memory usage: 93.8+ KB\n",
            "None\n"
          ],
          "name": "stdout"
        }
      ]
    },
    {
      "cell_type": "code",
      "metadata": {
        "id": "soritk9Q9q6G"
      },
      "source": [
        "# Tokenization\n",
        "tokenizer = Tokenizer()\n",
        "tokenizer.fit_on_texts(df['Review Text'].astype(str).str.lower())\n",
        "\n",
        "total_words = len(tokenizer.word_index)+1\n",
        "tokenized_sentences = tokenizer.texts_to_sequences(df['Review Text'].astype(str))"
      ],
      "execution_count": null,
      "outputs": []
    },
    {
      "cell_type": "code",
      "metadata": {
        "id": "WDN9Qwu29q6H"
      },
      "source": [
        "# Slash sequences into n gram sequence\n",
        "input_sequences = list()\n",
        "for i in tokenized_sentences:\n",
        "    for t in range(1, len(i)):\n",
        "        n_gram_sequence = i[:t+1]\n",
        "        input_sequences.append(n_gram_sequence)\n",
        "\n",
        "# Pre pad with max sequence length\n",
        "max_sequence_len = max([len(x) for x in input_sequences])\n",
        "input_sequences = np.array(pad_sequences(input_sequences, maxlen=max_sequence_len, padding='pre'))"
      ],
      "execution_count": null,
      "outputs": []
    },
    {
      "cell_type": "code",
      "metadata": {
        "id": "sVCZ7Ny59q6H"
      },
      "source": [
        "# create predictors and label\n",
        "xs, labels = input_sequences[:,:-1],input_sequences[:,-1]\n",
        "ys = tf.keras.utils.to_categorical(labels, num_classes=total_words)"
      ],
      "execution_count": null,
      "outputs": []
    },
    {
      "cell_type": "code",
      "metadata": {
        "id": "wrwv5rcsEvEp"
      },
      "source": [
        "import os"
      ],
      "execution_count": null,
      "outputs": []
    },
    {
      "cell_type": "code",
      "metadata": {
        "id": "IB6DgtU3EXPJ"
      },
      "source": [
        "tf.keras.backend.clear_session()\n",
        "\n",
        "resolver = tf.distribute.cluster_resolver.TPUClusterResolver('grpc://' + os.environ['COLAB_TPU_ADDR'])\n",
        "tf.config.experimental_connect_to_cluster(resolver)\n",
        "\n",
        "# This is the TPU initialization code that has to be at the beginning.\n",
        "tf.tpu.experimental.initialize_tpu_system(resolver)\n",
        "print(\"All devices: \", tf.config.list_logical_devices('TPU'))\n",
        "\n",
        "strategy = tf.distribute.experimental.TPUStrategy(resolver)\n",
        "\n",
        "with strategy.scope():\n",
        "  model = Sequential()\n",
        "  model.add(Embedding(total_words, 40, input_length=max_sequence_len-1))\n",
        "  model.add(Bidirectional(LSTM(500)))\n",
        "  model.add(Dense(total_words, activation='softmax'))\n",
        "  model.compile(loss='categorical_crossentropy', optimizer='adam', metrics=['accuracy'])\n",
        "  earlystop = EarlyStopping(monitor='loss', min_delta=0, patience=4, verbose=0, mode='auto')"
      ],
      "execution_count": null,
      "outputs": []
    },
    {
      "cell_type": "code",
      "metadata": {
        "colab": {
          "base_uri": "https://localhost:8080/"
        },
        "id": "jVq14r_sEZ6x",
        "outputId": "814d5efe-8e37-431b-d898-705911f3e93a"
      },
      "source": [
        "history = model.fit(xs, ys, epochs=40, verbose=1, callbacks=[earlystop], batch_size = 256)"
      ],
      "execution_count": null,
      "outputs": [
        {
          "output_type": "stream",
          "text": [
            "Epoch 1/40\n",
            "227/227 [==============================] - 22s 60ms/step - loss: 6.4254 - accuracy: 0.0502\n",
            "Epoch 2/40\n",
            "227/227 [==============================] - 10s 44ms/step - loss: 5.7334 - accuracy: 0.0704\n",
            "Epoch 3/40\n",
            "227/227 [==============================] - 10s 46ms/step - loss: 5.2564 - accuracy: 0.1192\n",
            "Epoch 4/40\n",
            "227/227 [==============================] - 10s 45ms/step - loss: 4.8234 - accuracy: 0.1475\n",
            "Epoch 5/40\n",
            "227/227 [==============================] - 10s 44ms/step - loss: 4.4725 - accuracy: 0.1714\n",
            "Epoch 6/40\n",
            "227/227 [==============================] - 10s 44ms/step - loss: 4.0945 - accuracy: 0.1999\n",
            "Epoch 7/40\n",
            "227/227 [==============================] - 10s 45ms/step - loss: 3.7152 - accuracy: 0.2295\n",
            "Epoch 8/40\n",
            "227/227 [==============================] - 10s 44ms/step - loss: 3.3749 - accuracy: 0.2740\n",
            "Epoch 9/40\n",
            "227/227 [==============================] - 10s 44ms/step - loss: 3.0084 - accuracy: 0.3328\n",
            "Epoch 10/40\n",
            "227/227 [==============================] - 10s 44ms/step - loss: 2.6641 - accuracy: 0.3976\n",
            "Epoch 11/40\n",
            "227/227 [==============================] - 10s 45ms/step - loss: 2.3701 - accuracy: 0.4586\n",
            "Epoch 12/40\n",
            "227/227 [==============================] - 10s 45ms/step - loss: 2.0940 - accuracy: 0.5226\n",
            "Epoch 13/40\n",
            "227/227 [==============================] - 10s 44ms/step - loss: 1.8416 - accuracy: 0.5825\n",
            "Epoch 14/40\n",
            "227/227 [==============================] - 10s 44ms/step - loss: 1.6108 - accuracy: 0.6467\n",
            "Epoch 15/40\n",
            "227/227 [==============================] - 10s 45ms/step - loss: 1.3878 - accuracy: 0.7057\n",
            "Epoch 16/40\n",
            "227/227 [==============================] - 10s 44ms/step - loss: 1.2028 - accuracy: 0.7555\n",
            "Epoch 17/40\n",
            "227/227 [==============================] - 10s 44ms/step - loss: 1.0363 - accuracy: 0.8011\n",
            "Epoch 18/40\n",
            "227/227 [==============================] - 10s 44ms/step - loss: 0.8768 - accuracy: 0.8412\n",
            "Epoch 19/40\n",
            "227/227 [==============================] - 10s 45ms/step - loss: 0.7448 - accuracy: 0.8741\n",
            "Epoch 20/40\n",
            "227/227 [==============================] - 10s 44ms/step - loss: 0.6336 - accuracy: 0.9027\n",
            "Epoch 21/40\n",
            "227/227 [==============================] - 10s 44ms/step - loss: 0.5396 - accuracy: 0.9227\n",
            "Epoch 22/40\n",
            "227/227 [==============================] - 10s 44ms/step - loss: 0.4505 - accuracy: 0.9398\n",
            "Epoch 23/40\n",
            "227/227 [==============================] - 10s 44ms/step - loss: 0.3870 - accuracy: 0.9492\n",
            "Epoch 24/40\n",
            "227/227 [==============================] - 10s 44ms/step - loss: 0.3350 - accuracy: 0.9568\n",
            "Epoch 25/40\n",
            "227/227 [==============================] - 10s 45ms/step - loss: 0.2878 - accuracy: 0.9619\n",
            "Epoch 26/40\n",
            "227/227 [==============================] - 10s 44ms/step - loss: 0.2526 - accuracy: 0.9642\n",
            "Epoch 27/40\n",
            "227/227 [==============================] - 10s 44ms/step - loss: 0.2330 - accuracy: 0.9636\n",
            "Epoch 28/40\n",
            "227/227 [==============================] - 10s 44ms/step - loss: 0.2065 - accuracy: 0.9668\n",
            "Epoch 29/40\n",
            "227/227 [==============================] - 10s 46ms/step - loss: 0.1886 - accuracy: 0.9680\n",
            "Epoch 30/40\n",
            "227/227 [==============================] - 10s 44ms/step - loss: 0.1744 - accuracy: 0.9686\n",
            "Epoch 31/40\n",
            "227/227 [==============================] - 10s 45ms/step - loss: 0.1650 - accuracy: 0.9687\n",
            "Epoch 32/40\n",
            "227/227 [==============================] - 10s 44ms/step - loss: 0.1575 - accuracy: 0.9690\n",
            "Epoch 33/40\n",
            "227/227 [==============================] - 10s 44ms/step - loss: 0.1485 - accuracy: 0.9709\n",
            "Epoch 34/40\n",
            "227/227 [==============================] - 11s 46ms/step - loss: 0.1459 - accuracy: 0.9697\n",
            "Epoch 35/40\n",
            "227/227 [==============================] - 10s 45ms/step - loss: 0.1710 - accuracy: 0.9662\n",
            "Epoch 36/40\n",
            "227/227 [==============================] - 10s 45ms/step - loss: 0.8889 - accuracy: 0.7611\n",
            "Epoch 37/40\n",
            "227/227 [==============================] - 10s 45ms/step - loss: 0.3355 - accuracy: 0.9336\n",
            "Epoch 38/40\n",
            "227/227 [==============================] - 10s 44ms/step - loss: 0.1736 - accuracy: 0.9695\n"
          ],
          "name": "stdout"
        }
      ]
    },
    {
      "cell_type": "code",
      "metadata": {
        "id": "zY-WilNF9q6H"
      },
      "source": [
        "model.save(\"/content/drive/My Drive/model/RNN_Generation.h5\")"
      ],
      "execution_count": null,
      "outputs": []
    },
    {
      "cell_type": "code",
      "metadata": {
        "id": "_vmlSGYa9q6H"
      },
      "source": [
        "from tensorflow import keras\n",
        "model = keras.models.load_model('/content/drive/My Drive/model/RNN_Generation.h5')"
      ],
      "execution_count": null,
      "outputs": []
    },
    {
      "cell_type": "code",
      "metadata": {
        "id": "zbv8m8bp9q6H",
        "colab": {
          "base_uri": "https://localhost:8080/",
          "height": 280
        },
        "outputId": "711b6190-120e-4bde-9efa-57dd29d78d32"
      },
      "source": [
        "def plot_graphs(history, string):\n",
        "    plt.plot(history.history[string])\n",
        "    plt.xlabel(\"Epochs\")\n",
        "    plt.ylabel(string)\n",
        "    plt.show()\n",
        "\n",
        "plot_graphs(history, 'accuracy')"
      ],
      "execution_count": null,
      "outputs": [
        {
          "output_type": "display_data",
          "data": {
            "image/png": "[encoded data removed]",
            "text/plain": [
              "<Figure size 432x288 with 1 Axes>"
            ]
          },
          "metadata": {
            "tags": [],
            "needs_background": "light"
          }
        }
      ]
    },
    {
      "cell_type": "code",
      "metadata": {
        "id": "0vsMR-vU9q6I"
      },
      "source": [
        "def complete_this_paragraph(seed_text, next_words):\n",
        "    for _ in range(next_words):\n",
        "        token_list = tokenizer.texts_to_sequences([seed_text])[0]\n",
        "        token_list = pad_sequences([token_list], maxlen=max_sequence_len-1, padding='pre')\n",
        "        predicted = model.predict_classes(token_list, verbose=0)\n",
        "\n",
        "        output_word = \"\"\n",
        "        for word, index in tokenizer.word_index.items():\n",
        "            if index == predicted:\n",
        "                output_word = word\n",
        "                break\n",
        "        seed_text += \" \" + output_word\n",
        "    return seed_text"
      ],
      "execution_count": null,
      "outputs": []
    },
    {
      "cell_type": "code",
      "metadata": {
        "id": "PBgV0j9b9q6I",
        "colab": {
          "base_uri": "https://localhost:8080/",
          "height": 110
        },
        "outputId": "b9a02710-a2aa-4ca4-f322-f7d56311b32e"
      },
      "source": [
        "complete_this_paragraph(\"this is a good\", 40)"
      ],
      "execution_count": null,
      "outputs": [
        {
          "output_type": "stream",
          "text": [
            "/usr/local/lib/python3.6/dist-packages/tensorflow/python/keras/engine/sequential.py:450: UserWarning: `model.predict_classes()` is deprecated and will be removed after 2021-01-01. Please use instead:* `np.argmax(model.predict(x), axis=-1)`,   if your model does multi-class classification   (e.g. if it uses a `softmax` last-layer activation).* `(model.predict(x) > 0.5).astype(\"int32\")`,   if your model does binary classification   (e.g. if it uses a `sigmoid` last-layer activation).\n",
            "  warnings.warn('`model.predict_classes()` is deprecated and '\n"
          ],
          "name": "stderr"
        },
        {
          "output_type": "execute_result",
          "data": {
            "application/vnd.google.colaboratory.intrinsic+json": {
              "type": "string"
            },
            "text/plain": [
              "\"this is a good shirt with lots of quality touches and something which is easy to wear and appropriate for many occasions however the dress i received wasn't quite like the dress pictured in the catalog and main website photos the bottom buttons of\""
            ]
          },
          "metadata": {
            "tags": []
          },
          "execution_count": 69
        }
      ]
    },
    {
      "cell_type": "code",
      "metadata": {
        "id": "feOeTVWj9q6I",
        "colab": {
          "base_uri": "https://localhost:8080/",
          "height": 92
        },
        "outputId": "352b6abe-b648-4e04-91a2-f641bc588f97"
      },
      "source": [
        "complete_this_paragraph(\"i loved that dress\", 40)"
      ],
      "execution_count": null,
      "outputs": [
        {
          "output_type": "stream",
          "text": [
            "/usr/local/lib/python3.6/dist-packages/tensorflow/python/keras/engine/sequential.py:450: UserWarning: `model.predict_classes()` is deprecated and will be removed after 2021-01-01. Please use instead:* `np.argmax(model.predict(x), axis=-1)`,   if your model does multi-class classification   (e.g. if it uses a `softmax` last-layer activation).* `(model.predict(x) > 0.5).astype(\"int32\")`,   if your model does binary classification   (e.g. if it uses a `sigmoid` last-layer activation).\n",
            "  warnings.warn('`model.predict_classes()` is deprecated and '\n"
          ],
          "name": "stderr"
        },
        {
          "output_type": "execute_result",
          "data": {
            "application/vnd.google.colaboratory.intrinsic+json": {
              "type": "string"
            },
            "text/plain": [
              "'i loved that dress this was one of the photo but the dress is very off a little look on me so bad i thought it would be a tad big i sized up it would be too beautiful or for petite wear me'"
            ]
          },
          "metadata": {
            "tags": []
          },
          "execution_count": 70
        }
      ]
    },
    {
      "cell_type": "code",
      "metadata": {
        "id": "D_bByJnS9q6I",
        "colab": {
          "base_uri": "https://localhost:8080/",
          "height": 92
        },
        "outputId": "ebd9b263-d51a-4af8-a769-0cd174edfda5"
      },
      "source": [
        "complete_this_paragraph(\"This shirt is so\", 40)"
      ],
      "execution_count": null,
      "outputs": [
        {
          "output_type": "stream",
          "text": [
            "/usr/local/lib/python3.6/dist-packages/tensorflow/python/keras/engine/sequential.py:450: UserWarning: `model.predict_classes()` is deprecated and will be removed after 2021-01-01. Please use instead:* `np.argmax(model.predict(x), axis=-1)`,   if your model does multi-class classification   (e.g. if it uses a `softmax` last-layer activation).* `(model.predict(x) > 0.5).astype(\"int32\")`,   if your model does binary classification   (e.g. if it uses a `sigmoid` last-layer activation).\n",
            "  warnings.warn('`model.predict_classes()` is deprecated and '\n"
          ],
          "name": "stderr"
        },
        {
          "output_type": "execute_result",
          "data": {
            "application/vnd.google.colaboratory.intrinsic+json": {
              "type": "string"
            },
            "text/plain": [
              "'This shirt is so cute with skinny jeans and crossbody bag i am 34b so i did not have the issue with the cut of top at the bustline love it to the only be disappointed and it is definitely right as you have'"
            ]
          },
          "metadata": {
            "tags": []
          },
          "execution_count": 71
        }
      ]
    },
    {
      "cell_type": "markdown",
      "metadata": {
        "id": "TC9f1nMHoSFa"
      },
      "source": [
        "## 어텐션 메커니즘 기반 언어 번역 모델 구현"
      ]
    },
    {
      "cell_type": "code",
      "metadata": {
        "id": "aCBfpRXBbf-2"
      },
      "source": [
        "import tensorflow as tf\n",
        "\n",
        "import matplotlib.pyplot as plt\n",
        "import matplotlib.ticker as ticker\n",
        "from sklearn.model_selection import train_test_split\n",
        "\n",
        "import unicodedata\n",
        "import re\n",
        "import numpy as np\n",
        "import os\n",
        "import io\n",
        "import time"
      ],
      "execution_count": null,
      "outputs": []
    },
    {
      "cell_type": "code",
      "metadata": {
        "colab": {
          "base_uri": "https://localhost:8080/"
        },
        "id": "cRuvAUDwpWyq",
        "outputId": "8a891603-b3e3-4ecc-ebb6-5bce5900869c"
      },
      "source": [
        "from google.colab import drive\n",
        "drive.mount('/content/drive')"
      ],
      "execution_count": null,
      "outputs": [
        {
          "output_type": "stream",
          "text": [
            "Drive already mounted at /content/drive; to attempt to forcibly remount, call drive.mount(\"/content/drive\", force_remount=True).\n"
          ],
          "name": "stdout"
        }
      ]
    },
    {
      "cell_type": "code",
      "metadata": {
        "colab": {
          "base_uri": "https://localhost:8080/"
        },
        "id": "ftbxhAbOoaXi",
        "outputId": "fa383e03-60e1-421a-e785-1e008ef5184e"
      },
      "source": [
        "# 파일을 다운로드합니다.\n",
        "path_to_zip = tf.keras.utils.get_file(\n",
        "    'spa-eng.zip', origin='http://storage.googleapis.com/download.tensorflow.org/data/spa-eng.zip',\n",
        "    extract=True)\n",
        "\n",
        "path_to_file = os.path.dirname(path_to_zip)+\"/spa-eng/spa.txt\""
      ],
      "execution_count": null,
      "outputs": [
        {
          "output_type": "stream",
          "text": [
            "Downloading data from http://storage.googleapis.com/download.tensorflow.org/data/spa-eng.zip\n",
            "2646016/2638744 [==============================] - 0s 0us/step\n"
          ],
          "name": "stdout"
        }
      ]
    },
    {
      "cell_type": "code",
      "metadata": {
        "id": "uLS-azzDodRq"
      },
      "source": [
        "# 유니코드 파일을 아스키 코드 파일로 변환합니다.\n",
        "def unicode_to_ascii(s):\n",
        "  return ''.join(c for c in unicodedata.normalize('NFD', s)\n",
        "      if unicodedata.category(c) != 'Mn')\n",
        "\n",
        "\n",
        "def preprocess_sentence(w):\n",
        "  w = unicode_to_ascii(w.lower().strip())\n",
        "\n",
        "  # 단어와 단어 뒤에 오는 구두점(.)사이에 공백을 생성합니다.\n",
        "  # 예시: \"he is a boy.\" => \"he is a boy .\"\n",
        "  # 참고:- https://stackoverflow.com/questions/3645931/python-padding-punctuation-with-white-spaces-keeping-punctuation\n",
        "  w = re.sub(r\"([?.!,¿])\", r\" \\1 \", w)\n",
        "  w = re.sub(r'[\" \"]+', \" \", w)\n",
        "\n",
        "  # (a-z, A-Z, \".\", \"?\", \"!\", \",\")을 제외한 모든 것을 공백으로 대체합니다.\n",
        "  w = re.sub(r\"[^a-zA-Z?.!,¿]+\", \" \", w)\n",
        "\n",
        "  w = w.strip()\n",
        "\n",
        "  # 모델이 예측을 시작하거나 중단할 때를 알게 하기 위해서\n",
        "  # 문장에 start와 end 토큰을 추가합니다.\n",
        "  w = '<start> ' + w + ' <end>'\n",
        "  return w"
      ],
      "execution_count": null,
      "outputs": []
    },
    {
      "cell_type": "code",
      "metadata": {
        "colab": {
          "base_uri": "https://localhost:8080/"
        },
        "id": "7Uu0EaJ3ofkW",
        "outputId": "cf238bf6-3b76-483d-9fdc-0f197e9a27ed"
      },
      "source": [
        "en_sentence = u\"May I borrow this book?\"\n",
        "sp_sentence = u\"¿Puedo tomar prestado este libro?\"\n",
        "print(preprocess_sentence(en_sentence))\n",
        "print(preprocess_sentence(sp_sentence).encode('utf-8'))"
      ],
      "execution_count": null,
      "outputs": [
        {
          "output_type": "stream",
          "text": [
            "<start> may i borrow this book ? <end>\n",
            "b'<start> \\xc2\\xbf puedo tomar prestado este libro ? <end>'\n"
          ],
          "name": "stdout"
        }
      ]
    },
    {
      "cell_type": "code",
      "metadata": {
        "id": "ZNl-jbyGogAw"
      },
      "source": [
        "# 1. 문장에 있는 억양을 제거합니다.\n",
        "# 2. 불필요한 문자를 제거하여 문장을 정리합니다.\n",
        "# 3. 다음과 같은 형식으로 문장의 쌍을 반환합니다: [영어, 스페인어]\n",
        "def create_dataset(path, num_examples):\n",
        "  lines = io.open(path, encoding='UTF-8').read().strip().split('\\n')\n",
        "\n",
        "  word_pairs = [[preprocess_sentence(w) for w in l.split('\\t')]  for l in lines[:num_examples]]\n",
        "\n",
        "  return zip(*word_pairs)"
      ],
      "execution_count": null,
      "outputs": []
    },
    {
      "cell_type": "code",
      "metadata": {
        "colab": {
          "base_uri": "https://localhost:8080/"
        },
        "id": "mI_bP4jbokzW",
        "outputId": "b605480e-481d-41ac-b0cd-effdc965ff4d"
      },
      "source": [
        "en, sp = create_dataset(path_to_file, None)\n",
        "print(en[-1])\n",
        "print(sp[-1])"
      ],
      "execution_count": null,
      "outputs": [
        {
          "output_type": "stream",
          "text": [
            "<start> if you want to sound like a native speaker , you must be willing to practice saying the same sentence over and over in the same way that banjo players practice the same phrase over and over until they can play it correctly and at the desired tempo . <end>\n",
            "<start> si quieres sonar como un hablante nativo , debes estar dispuesto a practicar diciendo la misma frase una y otra vez de la misma manera en que un musico de banjo practica el mismo fraseo una y otra vez hasta que lo puedan tocar correctamente y en el tiempo esperado . <end>\n"
          ],
          "name": "stdout"
        }
      ]
    },
    {
      "cell_type": "code",
      "metadata": {
        "id": "Rt80CJ3bol_h"
      },
      "source": [
        "def tokenize(lang):\n",
        "  lang_tokenizer = tf.keras.preprocessing.text.Tokenizer(\n",
        "      filters='')\n",
        "  lang_tokenizer.fit_on_texts(lang)\n",
        "\n",
        "  tensor = lang_tokenizer.texts_to_sequences(lang)\n",
        "\n",
        "  tensor = tf.keras.preprocessing.sequence.pad_sequences(tensor,\n",
        "                                                         padding='post')\n",
        "\n",
        "  return tensor, lang_tokenizer"
      ],
      "execution_count": null,
      "outputs": []
    },
    {
      "cell_type": "code",
      "metadata": {
        "id": "A_DyMR9mooUR"
      },
      "source": [
        "def load_dataset(path, num_examples=None):\n",
        "  # 전처리된 타겟 문장과 입력 문장 쌍을 생성합니다.\n",
        "  targ_lang, inp_lang = create_dataset(path, num_examples)\n",
        "\n",
        "  input_tensor, inp_lang_tokenizer = tokenize(inp_lang)\n",
        "  target_tensor, targ_lang_tokenizer = tokenize(targ_lang)\n",
        "\n",
        "  return input_tensor, target_tensor, inp_lang_tokenizer, targ_lang_tokenizer"
      ],
      "execution_count": null,
      "outputs": []
    },
    {
      "cell_type": "code",
      "metadata": {
        "id": "LLj4MIK2op8I"
      },
      "source": [
        "# 언어 데이터셋을 아래의 크기로 제한하여 훈련과 검증을 수행합니다.\n",
        "num_examples = 30000\n",
        "input_tensor, target_tensor, inp_lang, targ_lang = load_dataset(path_to_file, num_examples)\n",
        "\n",
        "# 타겟 텐서와 입력 텐서의 최대 길이를 계산합니다.\n",
        "max_length_targ, max_length_inp = target_tensor.shape[1], input_tensor.shape[1]"
      ],
      "execution_count": null,
      "outputs": []
    },
    {
      "cell_type": "code",
      "metadata": {
        "colab": {
          "base_uri": "https://localhost:8080/"
        },
        "id": "FWWcSUwBorqg",
        "outputId": "b8e6d316-925f-48af-b364-52bd03aa1a2a"
      },
      "source": [
        "# 훈련 집합과 검증 집합을 80대 20으로 분리합니다.\n",
        "input_tensor_train, input_tensor_val, target_tensor_train, target_tensor_val = train_test_split(input_tensor, target_tensor, test_size=0.2)\n",
        "\n",
        "# 훈련 집합과 검증 집합의 데이터 크기를 출력합니다.\n",
        "print(len(input_tensor_train), len(target_tensor_train), len(input_tensor_val), len(target_tensor_val))"
      ],
      "execution_count": null,
      "outputs": [
        {
          "output_type": "stream",
          "text": [
            "24000 24000 6000 6000\n"
          ],
          "name": "stdout"
        }
      ]
    },
    {
      "cell_type": "code",
      "metadata": {
        "id": "gRnNx_Q4oxcl"
      },
      "source": [
        "def convert(lang, tensor):\n",
        "  for t in tensor:\n",
        "    if t!=0:\n",
        "      print (\"%d ----> %s\" % (t, lang.index_word[t]))"
      ],
      "execution_count": null,
      "outputs": []
    },
    {
      "cell_type": "code",
      "metadata": {
        "colab": {
          "base_uri": "https://localhost:8080/"
        },
        "id": "UZ63fkelo0rK",
        "outputId": "a9fa2536-60d4-4e25-be67-1e03250997f7"
      },
      "source": [
        "print (\"Input Language; index to word mapping\")\n",
        "convert(inp_lang, input_tensor_train[0])\n",
        "print ()\n",
        "print (\"Target Language; index to word mapping\")\n",
        "convert(targ_lang, target_tensor_train[0])"
      ],
      "execution_count": null,
      "outputs": [
        {
          "output_type": "stream",
          "text": [
            "Input Language; index to word mapping\n",
            "1 ----> <start>\n",
            "6 ----> ¿\n",
            "38 ----> puedo\n",
            "123 ----> hacer\n",
            "21 ----> una\n",
            "700 ----> pregunta\n",
            "5 ----> ?\n",
            "2 ----> <end>\n",
            "\n",
            "Target Language; index to word mapping\n",
            "1 ----> <start>\n",
            "96 ----> may\n",
            "4 ----> i\n",
            "171 ----> ask\n",
            "9 ----> a\n",
            "842 ----> question\n",
            "7 ----> ?\n",
            "2 ----> <end>\n"
          ],
          "name": "stdout"
        }
      ]
    },
    {
      "cell_type": "code",
      "metadata": {
        "id": "6T3kMG1_o2G_"
      },
      "source": [
        "BUFFER_SIZE = len(input_tensor_train)\n",
        "BATCH_SIZE = 64\n",
        "steps_per_epoch = len(input_tensor_train)//BATCH_SIZE\n",
        "embedding_dim = 256\n",
        "units = 1024\n",
        "vocab_inp_size = len(inp_lang.word_index)+1\n",
        "vocab_tar_size = len(targ_lang.word_index)+1\n",
        "\n",
        "dataset = tf.data.Dataset.from_tensor_slices((input_tensor_train, target_tensor_train)).shuffle(BUFFER_SIZE)\n",
        "dataset = dataset.batch(BATCH_SIZE, drop_remainder=True)"
      ],
      "execution_count": null,
      "outputs": []
    },
    {
      "cell_type": "code",
      "metadata": {
        "colab": {
          "base_uri": "https://localhost:8080/"
        },
        "id": "etdC3Qs4o4Gd",
        "outputId": "dacdd209-49ff-45b0-eedb-f09a00696c23"
      },
      "source": [
        "example_input_batch, example_target_batch = next(iter(dataset))\n",
        "example_input_batch.shape, example_target_batch.shape"
      ],
      "execution_count": null,
      "outputs": [
        {
          "output_type": "execute_result",
          "data": {
            "text/plain": [
              "(TensorShape([64, 16]), TensorShape([64, 11]))"
            ]
          },
          "metadata": {
            "tags": []
          },
          "execution_count": 61
        }
      ]
    },
    {
      "cell_type": "code",
      "metadata": {
        "id": "cAM0fFxVo6Jj"
      },
      "source": [
        "class Encoder(tf.keras.Model):\n",
        "  def __init__(self, vocab_size, embedding_dim, enc_units, batch_sz):\n",
        "    super(Encoder, self).__init__()\n",
        "    self.batch_sz = batch_sz\n",
        "    self.enc_units = enc_units\n",
        "    self.embedding = tf.keras.layers.Embedding(vocab_size, embedding_dim)\n",
        "    self.gru = tf.keras.layers.GRU(self.enc_units,\n",
        "                                   return_sequences=True,\n",
        "                                   return_state=True,\n",
        "                                   recurrent_initializer='glorot_uniform')\n",
        "\n",
        "  def call(self, x, hidden):\n",
        "    x = self.embedding(x)\n",
        "    output, state = self.gru(x, initial_state = hidden)\n",
        "    return output, state\n",
        "\n",
        "  def initialize_hidden_state(self):\n",
        "    return tf.zeros((self.batch_sz, self.enc_units))"
      ],
      "execution_count": null,
      "outputs": []
    },
    {
      "cell_type": "code",
      "metadata": {
        "colab": {
          "base_uri": "https://localhost:8080/"
        },
        "id": "FB80zWJjo8ay",
        "outputId": "02a38b03-c22b-4776-ba86-676b2c6c1ab7"
      },
      "source": [
        "encoder = Encoder(vocab_inp_size, embedding_dim, units, BATCH_SIZE)\n",
        "\n",
        "# 샘플 입력\n",
        "sample_hidden = encoder.initialize_hidden_state()\n",
        "sample_output, sample_hidden = encoder(example_input_batch, sample_hidden)\n",
        "print ('Encoder output shape: (batch size, sequence length, units) {}'.format(sample_output.shape))\n",
        "print ('Encoder Hidden state shape: (batch size, units) {}'.format(sample_hidden.shape))"
      ],
      "execution_count": null,
      "outputs": [
        {
          "output_type": "stream",
          "text": [
            "Encoder output shape: (batch size, sequence length, units) (64, 16, 1024)\n",
            "Encoder Hidden state shape: (batch size, units) (64, 1024)\n"
          ],
          "name": "stdout"
        }
      ]
    },
    {
      "cell_type": "code",
      "metadata": {
        "id": "NYq0nuQXo95i"
      },
      "source": [
        "class BahdanauAttention(tf.keras.layers.Layer):\n",
        "  def __init__(self, units):\n",
        "    super(BahdanauAttention, self).__init__()\n",
        "    self.W1 = tf.keras.layers.Dense(units)\n",
        "    self.W2 = tf.keras.layers.Dense(units)\n",
        "    self.V = tf.keras.layers.Dense(1)\n",
        "\n",
        "  def call(self, query, values):\n",
        "    # 쿼리 은닉 상태(query hidden state)는 (batch_size, hidden size)쌍으로 이루어져 있습니다.\n",
        "    # query_with_time_axis은 (batch_size, 1, hidden size)쌍으로 이루어져 있습니다.\n",
        "    # values는 (batch_size, max_len, hidden size)쌍으로 이루어져 있습니다.\n",
        "    # 스코어(score)계산을 위해 덧셈을 수행하고자 시간 축을 확장하여 아래의 과정을 수행합니다.\n",
        "    query_with_time_axis = tf.expand_dims(query, 1)\n",
        "\n",
        "    # score는 (batch_size, max_length, 1)쌍으로 이루어져 있습니다.\n",
        "    # score를 self.V에 적용하기 때문에 마지막 축에 1을 얻습니다.\n",
        "    # self.V에 적용하기 전에 텐서는 (batch_size, max_length, units)쌍으로 이루어져 있습니다.\n",
        "    score = self.V(tf.nn.tanh(\n",
        "        self.W1(query_with_time_axis) + self.W2(values)))\n",
        "\n",
        "    # attention_weights는 (batch_size, max_length, 1)쌍으로 이루어져 있습니다.\n",
        "    attention_weights = tf.nn.softmax(score, axis=1)\n",
        "\n",
        "    # 덧셈이후 컨텍스트 벡터(context_vector)는 (batch_size, hidden_size)쌍으로 이루어져 있습니다.\n",
        "    context_vector = attention_weights * values\n",
        "    context_vector = tf.reduce_sum(context_vector, axis=1)\n",
        "\n",
        "    return context_vector, attention_weights"
      ],
      "execution_count": null,
      "outputs": []
    },
    {
      "cell_type": "code",
      "metadata": {
        "colab": {
          "base_uri": "https://localhost:8080/"
        },
        "id": "Xa65kiYApBLy",
        "outputId": "6d003520-b27f-4fbd-a0d6-524aa321e9d9"
      },
      "source": [
        "attention_layer = BahdanauAttention(10)\n",
        "attention_result, attention_weights = attention_layer(sample_hidden, sample_output)\n",
        "\n",
        "print(\"Attention result shape: (batch size, units) {}\".format(attention_result.shape))\n",
        "print(\"Attention weights shape: (batch_size, sequence_length, 1) {}\".format(attention_weights.shape))"
      ],
      "execution_count": null,
      "outputs": [
        {
          "output_type": "stream",
          "text": [
            "Attention result shape: (batch size, units) (64, 1024)\n",
            "Attention weights shape: (batch_size, sequence_length, 1) (64, 16, 1)\n"
          ],
          "name": "stdout"
        }
      ]
    },
    {
      "cell_type": "code",
      "metadata": {
        "id": "EVK3YekMpC6u"
      },
      "source": [
        "class Decoder(tf.keras.Model):\n",
        "  def __init__(self, vocab_size, embedding_dim, dec_units, batch_sz):\n",
        "    super(Decoder, self).__init__()\n",
        "    self.batch_sz = batch_sz\n",
        "    self.dec_units = dec_units\n",
        "    self.embedding = tf.keras.layers.Embedding(vocab_size, embedding_dim)\n",
        "    self.gru = tf.keras.layers.GRU(self.dec_units,\n",
        "                                   return_sequences=True,\n",
        "                                   return_state=True,\n",
        "                                   recurrent_initializer='glorot_uniform')\n",
        "    self.fc = tf.keras.layers.Dense(vocab_size)\n",
        "\n",
        "    # 어텐션을 사용합니다.\n",
        "    self.attention = BahdanauAttention(self.dec_units)\n",
        "\n",
        "  def call(self, x, hidden, enc_output):\n",
        "    # enc_output는 (batch_size, max_length, hidden_size)쌍으로 이루어져 있습니다.\n",
        "    context_vector, attention_weights = self.attention(hidden, enc_output)\n",
        "\n",
        "    # 임베딩층을 통과한 후 x는 (batch_size, 1, embedding_dim)쌍으로 이루어져 있습니다.\n",
        "    x = self.embedding(x)\n",
        "\n",
        "    # 컨텍스트 벡터와 임베딩 결과를 결합한 이후 x의 형태는 (batch_size, 1, embedding_dim + hidden_size)쌍으로 이루어져 있습니다.\n",
        "    x = tf.concat([tf.expand_dims(context_vector, 1), x], axis=-1)\n",
        "\n",
        "    # 위에서 결합된 벡터를 GRU에 전달합니다.\n",
        "    output, state = self.gru(x)\n",
        "\n",
        "    # output은 (batch_size * 1, hidden_size)쌍으로 이루어져 있습니다.\n",
        "    output = tf.reshape(output, (-1, output.shape[2]))\n",
        "\n",
        "    # output은 (batch_size, vocab)쌍으로 이루어져 있습니다.\n",
        "    x = self.fc(output)\n",
        "\n",
        "    return x, state, attention_weights"
      ],
      "execution_count": null,
      "outputs": []
    },
    {
      "cell_type": "code",
      "metadata": {
        "colab": {
          "base_uri": "https://localhost:8080/"
        },
        "id": "tod1XkX0pGCY",
        "outputId": "b0114765-ffed-4013-fbcd-9a4ea36e7392"
      },
      "source": [
        "decoder = Decoder(vocab_tar_size, embedding_dim, units, BATCH_SIZE)\n",
        "\n",
        "sample_decoder_output, _, _ = decoder(tf.random.uniform((BATCH_SIZE, 1)),\n",
        "                                      sample_hidden, sample_output)\n",
        "\n",
        "print ('Decoder output shape: (batch_size, vocab size) {}'.format(sample_decoder_output.shape))"
      ],
      "execution_count": null,
      "outputs": [
        {
          "output_type": "stream",
          "text": [
            "Decoder output shape: (batch_size, vocab size) (64, 4935)\n"
          ],
          "name": "stdout"
        }
      ]
    },
    {
      "cell_type": "code",
      "metadata": {
        "id": "32Xj1snLpGue"
      },
      "source": [
        "optimizer = tf.keras.optimizers.Adam()\n",
        "loss_object = tf.keras.losses.SparseCategoricalCrossentropy(\n",
        "    from_logits=True, reduction='none')\n",
        "\n",
        "def loss_function(real, pred):\n",
        "  mask = tf.math.logical_not(tf.math.equal(real, 0))\n",
        "  loss_ = loss_object(real, pred)\n",
        "\n",
        "  mask = tf.cast(mask, dtype=loss_.dtype)\n",
        "  loss_ *= mask\n",
        "\n",
        "  return tf.reduce_mean(loss_)"
      ],
      "execution_count": null,
      "outputs": []
    },
    {
      "cell_type": "code",
      "metadata": {
        "id": "gAvhBpvzpImU"
      },
      "source": [
        "checkpoint_dir = 'content/drive/My Drive/model/checkpoints/training_checkpoints'\n",
        "checkpoint_prefix = os.path.join(checkpoint_dir, \"ckpt\")\n",
        "checkpoint = tf.train.Checkpoint(optimizer=optimizer,\n",
        "                                 encoder=encoder,\n",
        "                                 decoder=decoder)"
      ],
      "execution_count": null,
      "outputs": []
    },
    {
      "cell_type": "code",
      "metadata": {
        "id": "t5NJq--TqASU"
      },
      "source": [
        "@tf.function\n",
        "def train_step(inp, targ, enc_hidden):\n",
        "  loss = 0\n",
        "\n",
        "  with tf.GradientTape() as tape:\n",
        "    enc_output, enc_hidden = encoder(inp, enc_hidden)\n",
        "\n",
        "    dec_hidden = enc_hidden\n",
        "\n",
        "    dec_input = tf.expand_dims([targ_lang.word_index['<start>']] * BATCH_SIZE, 1)\n",
        "\n",
        "    # 교사 강요(teacher forcing) - 다음 입력으로 타겟을 피딩(feeding)합니다.\n",
        "    for t in range(1, targ.shape[1]):\n",
        "      # enc_output를 디코더에 전달합니다.\n",
        "      predictions, dec_hidden, _ = decoder(dec_input, dec_hidden, enc_output)\n",
        "\n",
        "      loss += loss_function(targ[:, t], predictions)\n",
        "\n",
        "      # 교사 강요(teacher forcing)를 사용합니다.\n",
        "      dec_input = tf.expand_dims(targ[:, t], 1)\n",
        "\n",
        "  batch_loss = (loss / int(targ.shape[1]))\n",
        "\n",
        "  variables = encoder.trainable_variables + decoder.trainable_variables\n",
        "\n",
        "  gradients = tape.gradient(loss, variables)\n",
        "\n",
        "  optimizer.apply_gradients(zip(gradients, variables))\n",
        "\n",
        "  return batch_loss"
      ],
      "execution_count": null,
      "outputs": []
    },
    {
      "cell_type": "code",
      "metadata": {
        "colab": {
          "base_uri": "https://localhost:8080/",
          "height": 106
        },
        "id": "eeLfs0ADqCJx",
        "outputId": "aa7fe07b-dfae-43fa-fda8-4d800cd53991"
      },
      "source": [
        "\"\"\"EPOCHS = 10\n",
        "\n",
        "for epoch in range(EPOCHS):\n",
        "  start = time.time()\n",
        "\n",
        "  enc_hidden = encoder.initialize_hidden_state()\n",
        "  total_loss = 0\n",
        "\n",
        "  for (batch, (inp, targ)) in enumerate(dataset.take(steps_per_epoch)):\n",
        "    batch_loss = train_step(inp, targ, enc_hidden)\n",
        "    total_loss += batch_loss\n",
        "\n",
        "    if batch % 100 == 0:\n",
        "      print('Epoch {} Batch {} Loss {:.4f}'.format(epoch + 1,\n",
        "                                                   batch,\n",
        "                                                   batch_loss.numpy()))\n",
        "  # 에포크가 2번 실행될때마다 모델 저장 (체크포인트)\n",
        "  if (epoch + 1) % 2 == 0:\n",
        "    checkpoint.save(file_prefix = checkpoint_prefix)\n",
        "\n",
        "  print('Epoch {} Loss {:.4f}'.format(epoch + 1,\n",
        "                                      total_loss / steps_per_epoch))\n",
        "  print('Time taken for 1 epoch {} sec\\n'.format(time.time() - start))\"\"\""
      ],
      "execution_count": null,
      "outputs": [
        {
          "output_type": "execute_result",
          "data": {
            "application/vnd.google.colaboratory.intrinsic+json": {
              "type": "string"
            },
            "text/plain": [
              "\"EPOCHS = 10\\n\\nfor epoch in range(EPOCHS):\\n  start = time.time()\\n\\n  enc_hidden = encoder.initialize_hidden_state()\\n  total_loss = 0\\n\\n  for (batch, (inp, targ)) in enumerate(dataset.take(steps_per_epoch)):\\n    batch_loss = train_step(inp, targ, enc_hidden)\\n    total_loss += batch_loss\\n\\n    if batch % 100 == 0:\\n      print('Epoch {} Batch {} Loss {:.4f}'.format(epoch + 1,\\n                                                   batch,\\n                                                   batch_loss.numpy()))\\n  # 에포크가 2번 실행될때마다 모델 저장 (체크포인트)\\n  if (epoch + 1) % 2 == 0:\\n    checkpoint.save(file_prefix = checkpoint_prefix)\\n\\n  print('Epoch {} Loss {:.4f}'.format(epoch + 1,\\n                                      total_loss / steps_per_epoch))\\n  print('Time taken for 1 epoch {} sec\\n'.format(time.time() - start))\""
            ]
          },
          "metadata": {
            "tags": []
          },
          "execution_count": 71
        }
      ]
    },
    {
      "cell_type": "code",
      "metadata": {
        "id": "A_hEPfLrqEeS"
      },
      "source": [
        "def evaluate(sentence):\n",
        "  attention_plot = np.zeros((max_length_targ, max_length_inp))\n",
        "\n",
        "  sentence = preprocess_sentence(sentence)\n",
        "\n",
        "  inputs = [inp_lang.word_index[i] for i in sentence.split(' ')]\n",
        "  inputs = tf.keras.preprocessing.sequence.pad_sequences([inputs],\n",
        "                                                         maxlen=max_length_inp,\n",
        "                                                         padding='post')\n",
        "  inputs = tf.convert_to_tensor(inputs)\n",
        "\n",
        "  result = ''\n",
        "\n",
        "  hidden = [tf.zeros((1, units))]\n",
        "  enc_out, enc_hidden = encoder(inputs, hidden)\n",
        "\n",
        "  dec_hidden = enc_hidden\n",
        "  dec_input = tf.expand_dims([targ_lang.word_index['<start>']], 0)\n",
        "\n",
        "  for t in range(max_length_targ):\n",
        "    predictions, dec_hidden, attention_weights = decoder(dec_input,\n",
        "                                                         dec_hidden,\n",
        "                                                         enc_out)\n",
        "\n",
        "    # 나중에 어텐션 가중치를 시각화하기 위해 어텐션 가중치를 저장합니다.\n",
        "    attention_weights = tf.reshape(attention_weights, (-1, ))\n",
        "    attention_plot[t] = attention_weights.numpy()\n",
        "\n",
        "    predicted_id = tf.argmax(predictions[0]).numpy()\n",
        "\n",
        "    result += targ_lang.index_word[predicted_id] + ' '\n",
        "\n",
        "    if targ_lang.index_word[predicted_id] == '<end>':\n",
        "      return result, sentence, attention_plot\n",
        "\n",
        "    # 예측된 ID를 모델에 다시 피드합니다.\n",
        "    dec_input = tf.expand_dims([predicted_id], 0)\n",
        "\n",
        "  return result, sentence, attention_plot"
      ],
      "execution_count": null,
      "outputs": []
    },
    {
      "cell_type": "code",
      "metadata": {
        "id": "7HgHT7gkuQuE"
      },
      "source": [
        "# 어텐션 가중치를 그리기 위한 함수입니다.\n",
        "def plot_attention(attention, sentence, predicted_sentence):\n",
        "  fig = plt.figure(figsize=(10,10))\n",
        "  ax = fig.add_subplot(1, 1, 1)\n",
        "  ax.matshow(attention, cmap='viridis')\n",
        "\n",
        "  fontdict = {'fontsize': 14}\n",
        "\n",
        "  ax.set_xticklabels([''] + sentence, fontdict=fontdict, rotation=90)\n",
        "  ax.set_yticklabels([''] + predicted_sentence, fontdict=fontdict)\n",
        "\n",
        "  ax.xaxis.set_major_locator(ticker.MultipleLocator(1))\n",
        "  ax.yaxis.set_major_locator(ticker.MultipleLocator(1))\n",
        "\n",
        "  plt.show()"
      ],
      "execution_count": null,
      "outputs": []
    },
    {
      "cell_type": "code",
      "metadata": {
        "id": "cA7ZqIn-uSdA"
      },
      "source": [
        "def translate(sentence):\n",
        "  result, sentence, attention_plot = evaluate(sentence)\n",
        "\n",
        "  print('Input: %s' % (sentence))\n",
        "  print('Predicted translation: {}'.format(result))\n",
        "\n",
        "  attention_plot = attention_plot[:len(result.split(' ')), :len(sentence.split(' '))]\n",
        "  plot_attention(attention_plot, sentence.split(' '), result.split(' '))"
      ],
      "execution_count": null,
      "outputs": []
    },
    {
      "cell_type": "code",
      "metadata": {
        "colab": {
          "base_uri": "https://localhost:8080/"
        },
        "id": "mkLjgkEFuURl",
        "outputId": "16d38480-5a0e-4652-bf8e-64f9b6c0097f"
      },
      "source": [
        "# checkpoint_dir내에 있는 최근 체크포인트(checkpoint)를 복원합니다.\n",
        "checkpoint.restore(tf.train.latest_checkpoint(\"/content/drive/My Drive/model/checkpoints/attention_translation/\"))"
      ],
      "execution_count": null,
      "outputs": [
        {
          "output_type": "execute_result",
          "data": {
            "text/plain": [
              "<tensorflow.python.training.tracking.util.InitializationOnlyStatus at 0x7fde5550e940>"
            ]
          },
          "metadata": {
            "tags": []
          },
          "execution_count": 75
        }
      ]
    },
    {
      "cell_type": "code",
      "metadata": {
        "colab": {
          "base_uri": "https://localhost:8080/",
          "height": 676
        },
        "id": "YbQP4sQCuWaJ",
        "outputId": "2e5abfb6-57f2-49bc-add4-a430835aea4a"
      },
      "source": [
        "translate(u'hace mucho frio aqui.')"
      ],
      "execution_count": null,
      "outputs": [
        {
          "output_type": "stream",
          "text": [
            "Input: <start> hace mucho frio aqui . <end>\n",
            "Predicted translation: permit strength penance rewound folks tempting capsized lazy completely exert halfway \n"
          ],
          "name": "stdout"
        },
        {
          "output_type": "display_data",
          "data": {
            "image/png": "[encoded data removed]",
            "text/plain": [
              "<Figure size 720x720 with 1 Axes>"
            ]
          },
          "metadata": {
            "tags": [],
            "needs_background": "light"
          }
        }
      ]
    },
    {
      "cell_type": "code",
      "metadata": {
        "colab": {
          "base_uri": "https://localhost:8080/",
          "height": 676
        },
        "id": "ILzXxmD6wLp6",
        "outputId": "d508bfe3-9cdb-45c9-ac97-7170d154e6d9"
      },
      "source": [
        "translate(u'esta es mi vida.')"
      ],
      "execution_count": null,
      "outputs": [
        {
          "output_type": "stream",
          "text": [
            "Input: <start> esta es mi vida . <end>\n",
            "Predicted translation: permit cleaning coat defendant obvious precise fishy suspicious resigned wings cooks \n"
          ],
          "name": "stdout"
        },
        {
          "output_type": "display_data",
          "data": {
            "image/png": "[encoded data removed]",
            "text/plain": [
              "<Figure size 720x720 with 1 Axes>"
            ]
          },
          "metadata": {
            "tags": [],
            "needs_background": "light"
          }
        }
      ]
    },
    {
      "cell_type": "code",
      "metadata": {
        "colab": {
          "base_uri": "https://localhost:8080/",
          "height": 676
        },
        "id": "s6fxo5c3wO6N",
        "outputId": "e7938970-6764-42b8-fe6a-3e3e4f430d2a"
      },
      "source": [
        "translate(u'¿todavia estan en casa?')"
      ],
      "execution_count": null,
      "outputs": [
        {
          "output_type": "stream",
          "text": [
            "Input: <start> ¿ todavia estan en casa ? <end>\n",
            "Predicted translation: permit motorcycle searching age spirit younger called lincoln suitcase fear apples \n"
          ],
          "name": "stdout"
        },
        {
          "output_type": "display_data",
          "data": {
            "image/png": "[encoded data removed]",
            "text/plain": [
              "<Figure size 720x720 with 1 Axes>"
            ]
          },
          "metadata": {
            "tags": [],
            "needs_background": "light"
          }
        }
      ]
    },
    {
      "cell_type": "code",
      "metadata": {
        "colab": {
          "base_uri": "https://localhost:8080/",
          "height": 700
        },
        "id": "TiI6fl4XwVie",
        "outputId": "26d155da-2b81-4eec-b40a-664f82f66fe1"
      },
      "source": [
        "translate(u'trata de averiguarlo.')"
      ],
      "execution_count": null,
      "outputs": [
        {
          "output_type": "stream",
          "text": [
            "Input: <start> trata de averiguarlo . <end>\n",
            "Predicted translation: permit strength penance rewound folks tempting capsized lazy completely exert outwit \n"
          ],
          "name": "stdout"
        },
        {
          "output_type": "display_data",
          "data": {
            "image/png": "[encoded data removed]",
            "text/plain": [
              "<Figure size 720x720 with 1 Axes>"
            ]
          },
          "metadata": {
            "tags": [],
            "needs_background": "light"
          }
        }
      ]
    },
    {
      "cell_type": "markdown",
      "metadata": {
        "id": "AQBAzHaGxQk0"
      },
      "source": [
        "## 시계열 예측 분석"
      ]
    },
    {
      "cell_type": "markdown",
      "metadata": {
        "id": "yQUgUu08HPMU"
      },
      "source": [
        "### 주가 예측"
      ]
    },
    {
      "cell_type": "code",
      "metadata": {
        "id": "bb0UGbFWOGNQ"
      },
      "source": [
        "import pandas as pd\n",
        "import requests\n",
        "from io import StringIO\n",
        "\n",
        "orig_url='https://drive.google.com/file/d/1FTi4EVmhxpH1sNVYSUP1hPEWERzekyai/view?usp=sharing'\n",
        "file_id = orig_url.split('/')[-2] #파일 id 추출\n",
        "dwn_url='https://drive.google.com/uc?export=download&id=' + file_id #다운로드 url 지정\n",
        "url = requests.get(dwn_url).text #dwn_url을 통해 request\n",
        "csv_raw = StringIO(url) #객체 처리\n",
        "df = pd.read_csv(csv_raw) #추출된 url read"
      ],
      "execution_count": null,
      "outputs": []
    },
    {
      "cell_type": "code",
      "metadata": {
        "id": "WyqtUr6kwmhp"
      },
      "source": [
        "import pandas as pd"
      ],
      "execution_count": null,
      "outputs": []
    },
    {
      "cell_type": "code",
      "metadata": {
        "colab": {
          "base_uri": "https://localhost:8080/"
        },
        "id": "PBPxt-VZ3XVL",
        "outputId": "ae3451c0-ead0-448f-8e21-f1d3d5e65dca"
      },
      "source": [
        "from google.colab import drive\n",
        "drive.mount('/content/drive')"
      ],
      "execution_count": null,
      "outputs": [
        {
          "output_type": "stream",
          "text": [
            "Drive already mounted at /content/drive; to attempt to forcibly remount, call drive.mount(\"/content/drive\", force_remount=True).\n"
          ],
          "name": "stdout"
        }
      ]
    },
    {
      "cell_type": "code",
      "metadata": {
        "id": "U0mhPcyh33MH"
      },
      "source": [
        "import numpy as np\n",
        "\n",
        "import matplotlib.pyplot as plt\n",
        "\n",
        "import pandas as pd"
      ],
      "execution_count": null,
      "outputs": []
    },
    {
      "cell_type": "code",
      "metadata": {
        "colab": {
          "base_uri": "https://localhost:8080/",
          "height": 195
        },
        "id": "8dkKHIyw34_f",
        "outputId": "129e58ea-a373-44c0-b4b8-454f86202bad"
      },
      "source": [
        "apple_traning_dataset = df.copy()\n",
        "apple_traning_dataset.head()"
      ],
      "execution_count": null,
      "outputs": [
        {
          "output_type": "execute_result",
          "data": {
            "text/html": [
              "<div>\n",
              "<style scoped>\n",
              "    .dataframe tbody tr th:only-of-type {\n",
              "        vertical-align: middle;\n",
              "    }\n",
              "\n",
              "    .dataframe tbody tr th {\n",
              "        vertical-align: top;\n",
              "    }\n",
              "\n",
              "    .dataframe thead th {\n",
              "        text-align: right;\n",
              "    }\n",
              "</style>\n",
              "<table border=\"1\" class=\"dataframe\">\n",
              "  <thead>\n",
              "    <tr style=\"text-align: right;\">\n",
              "      <th></th>\n",
              "      <th>Date</th>\n",
              "      <th>Open</th>\n",
              "      <th>High</th>\n",
              "      <th>Low</th>\n",
              "      <th>Close</th>\n",
              "      <th>Adj Close</th>\n",
              "      <th>Volume</th>\n",
              "    </tr>\n",
              "  </thead>\n",
              "  <tbody>\n",
              "    <tr>\n",
              "      <th>0</th>\n",
              "      <td>2013-01-02</td>\n",
              "      <td>79.117142</td>\n",
              "      <td>79.285713</td>\n",
              "      <td>77.375717</td>\n",
              "      <td>78.432854</td>\n",
              "      <td>68.502106</td>\n",
              "      <td>140129500</td>\n",
              "    </tr>\n",
              "    <tr>\n",
              "      <th>1</th>\n",
              "      <td>2013-01-03</td>\n",
              "      <td>78.268570</td>\n",
              "      <td>78.524284</td>\n",
              "      <td>77.285713</td>\n",
              "      <td>77.442856</td>\n",
              "      <td>67.637436</td>\n",
              "      <td>88241300</td>\n",
              "    </tr>\n",
              "    <tr>\n",
              "      <th>2</th>\n",
              "      <td>2013-01-04</td>\n",
              "      <td>76.709999</td>\n",
              "      <td>76.947144</td>\n",
              "      <td>75.118568</td>\n",
              "      <td>75.285713</td>\n",
              "      <td>65.753418</td>\n",
              "      <td>148583400</td>\n",
              "    </tr>\n",
              "    <tr>\n",
              "      <th>3</th>\n",
              "      <td>2013-01-07</td>\n",
              "      <td>74.571426</td>\n",
              "      <td>75.614288</td>\n",
              "      <td>73.599998</td>\n",
              "      <td>74.842857</td>\n",
              "      <td>65.366646</td>\n",
              "      <td>121039100</td>\n",
              "    </tr>\n",
              "    <tr>\n",
              "      <th>4</th>\n",
              "      <td>2013-01-08</td>\n",
              "      <td>75.601425</td>\n",
              "      <td>75.984283</td>\n",
              "      <td>74.464287</td>\n",
              "      <td>75.044289</td>\n",
              "      <td>65.542587</td>\n",
              "      <td>114676800</td>\n",
              "    </tr>\n",
              "  </tbody>\n",
              "</table>\n",
              "</div>"
            ],
            "text/plain": [
              "         Date       Open       High        Low      Close  Adj Close     Volume\n",
              "0  2013-01-02  79.117142  79.285713  77.375717  78.432854  68.502106  140129500\n",
              "1  2013-01-03  78.268570  78.524284  77.285713  77.442856  67.637436   88241300\n",
              "2  2013-01-04  76.709999  76.947144  75.118568  75.285713  65.753418  148583400\n",
              "3  2013-01-07  74.571426  75.614288  73.599998  74.842857  65.366646  121039100\n",
              "4  2013-01-08  75.601425  75.984283  74.464287  75.044289  65.542587  114676800"
            ]
          },
          "metadata": {
            "tags": []
          },
          "execution_count": 84
        }
      ]
    },
    {
      "cell_type": "code",
      "metadata": {
        "colab": {
          "base_uri": "https://localhost:8080/",
          "height": 353
        },
        "id": "C34iC7Ho4Dyc",
        "outputId": "72614a18-815c-447a-f117-fde58ccc68bc"
      },
      "source": [
        "apple_traning_dataset.plot(kind='line', x='Date', y='Open', figsize=(15,5))"
      ],
      "execution_count": null,
      "outputs": [
        {
          "output_type": "execute_result",
          "data": {
            "text/plain": [
              "<matplotlib.axes._subplots.AxesSubplot at 0x7fde7ad42e48>"
            ]
          },
          "metadata": {
            "tags": []
          },
          "execution_count": 85
        },
        {
          "output_type": "display_data",
          "data": {
            "image/png": "[encoded data removed]",
            "text/plain": [
              "<Figure size 1080x360 with 1 Axes>"
            ]
          },
          "metadata": {
            "tags": [],
            "needs_background": "light"
          }
        }
      ]
    },
    {
      "cell_type": "code",
      "metadata": {
        "colab": {
          "base_uri": "https://localhost:8080/"
        },
        "id": "UJ2tbvDH35_Q",
        "outputId": "f08fcd88-d0c2-4ae9-c35b-8d1248ce765d"
      },
      "source": [
        "apple_traning_dataset.info()"
      ],
      "execution_count": null,
      "outputs": [
        {
          "output_type": "stream",
          "text": [
            "<class 'pandas.core.frame.DataFrame'>\n",
            "RangeIndex: 1259 entries, 0 to 1258\n",
            "Data columns (total 7 columns):\n",
            " #   Column     Non-Null Count  Dtype  \n",
            "---  ------     --------------  -----  \n",
            " 0   Date       1259 non-null   object \n",
            " 1   Open       1259 non-null   float64\n",
            " 2   High       1259 non-null   float64\n",
            " 3   Low        1259 non-null   float64\n",
            " 4   Close      1259 non-null   float64\n",
            " 5   Adj Close  1259 non-null   float64\n",
            " 6   Volume     1259 non-null   int64  \n",
            "dtypes: float64(5), int64(1), object(1)\n",
            "memory usage: 69.0+ KB\n"
          ],
          "name": "stdout"
        }
      ]
    },
    {
      "cell_type": "code",
      "metadata": {
        "colab": {
          "base_uri": "https://localhost:8080/",
          "height": 402
        },
        "id": "2B8Neg6j4MML",
        "outputId": "adb4affa-2aa1-4439-fe40-8f86e31e85bf"
      },
      "source": [
        "apple_traning_dataset"
      ],
      "execution_count": null,
      "outputs": [
        {
          "output_type": "execute_result",
          "data": {
            "text/html": [
              "<div>\n",
              "<style scoped>\n",
              "    .dataframe tbody tr th:only-of-type {\n",
              "        vertical-align: middle;\n",
              "    }\n",
              "\n",
              "    .dataframe tbody tr th {\n",
              "        vertical-align: top;\n",
              "    }\n",
              "\n",
              "    .dataframe thead th {\n",
              "        text-align: right;\n",
              "    }\n",
              "</style>\n",
              "<table border=\"1\" class=\"dataframe\">\n",
              "  <thead>\n",
              "    <tr style=\"text-align: right;\">\n",
              "      <th></th>\n",
              "      <th>Date</th>\n",
              "      <th>Open</th>\n",
              "      <th>High</th>\n",
              "      <th>Low</th>\n",
              "      <th>Close</th>\n",
              "      <th>Adj Close</th>\n",
              "      <th>Volume</th>\n",
              "    </tr>\n",
              "  </thead>\n",
              "  <tbody>\n",
              "    <tr>\n",
              "      <th>0</th>\n",
              "      <td>2013-01-02</td>\n",
              "      <td>79.117142</td>\n",
              "      <td>79.285713</td>\n",
              "      <td>77.375717</td>\n",
              "      <td>78.432854</td>\n",
              "      <td>68.502106</td>\n",
              "      <td>140129500</td>\n",
              "    </tr>\n",
              "    <tr>\n",
              "      <th>1</th>\n",
              "      <td>2013-01-03</td>\n",
              "      <td>78.268570</td>\n",
              "      <td>78.524284</td>\n",
              "      <td>77.285713</td>\n",
              "      <td>77.442856</td>\n",
              "      <td>67.637436</td>\n",
              "      <td>88241300</td>\n",
              "    </tr>\n",
              "    <tr>\n",
              "      <th>2</th>\n",
              "      <td>2013-01-04</td>\n",
              "      <td>76.709999</td>\n",
              "      <td>76.947144</td>\n",
              "      <td>75.118568</td>\n",
              "      <td>75.285713</td>\n",
              "      <td>65.753418</td>\n",
              "      <td>148583400</td>\n",
              "    </tr>\n",
              "    <tr>\n",
              "      <th>3</th>\n",
              "      <td>2013-01-07</td>\n",
              "      <td>74.571426</td>\n",
              "      <td>75.614288</td>\n",
              "      <td>73.599998</td>\n",
              "      <td>74.842857</td>\n",
              "      <td>65.366646</td>\n",
              "      <td>121039100</td>\n",
              "    </tr>\n",
              "    <tr>\n",
              "      <th>4</th>\n",
              "      <td>2013-01-08</td>\n",
              "      <td>75.601425</td>\n",
              "      <td>75.984283</td>\n",
              "      <td>74.464287</td>\n",
              "      <td>75.044289</td>\n",
              "      <td>65.542587</td>\n",
              "      <td>114676800</td>\n",
              "    </tr>\n",
              "    <tr>\n",
              "      <th>...</th>\n",
              "      <td>...</td>\n",
              "      <td>...</td>\n",
              "      <td>...</td>\n",
              "      <td>...</td>\n",
              "      <td>...</td>\n",
              "      <td>...</td>\n",
              "      <td>...</td>\n",
              "    </tr>\n",
              "    <tr>\n",
              "      <th>1254</th>\n",
              "      <td>2017-12-22</td>\n",
              "      <td>174.679993</td>\n",
              "      <td>175.419998</td>\n",
              "      <td>174.500000</td>\n",
              "      <td>175.009995</td>\n",
              "      <td>169.009430</td>\n",
              "      <td>16349400</td>\n",
              "    </tr>\n",
              "    <tr>\n",
              "      <th>1255</th>\n",
              "      <td>2017-12-26</td>\n",
              "      <td>170.800003</td>\n",
              "      <td>171.470001</td>\n",
              "      <td>169.679993</td>\n",
              "      <td>170.570007</td>\n",
              "      <td>164.721680</td>\n",
              "      <td>33185500</td>\n",
              "    </tr>\n",
              "    <tr>\n",
              "      <th>1256</th>\n",
              "      <td>2017-12-27</td>\n",
              "      <td>170.100006</td>\n",
              "      <td>170.779999</td>\n",
              "      <td>169.710007</td>\n",
              "      <td>170.600006</td>\n",
              "      <td>164.750641</td>\n",
              "      <td>21498200</td>\n",
              "    </tr>\n",
              "    <tr>\n",
              "      <th>1257</th>\n",
              "      <td>2017-12-28</td>\n",
              "      <td>171.000000</td>\n",
              "      <td>171.850006</td>\n",
              "      <td>170.479996</td>\n",
              "      <td>171.080002</td>\n",
              "      <td>165.214188</td>\n",
              "      <td>16480200</td>\n",
              "    </tr>\n",
              "    <tr>\n",
              "      <th>1258</th>\n",
              "      <td>2017-12-29</td>\n",
              "      <td>170.520004</td>\n",
              "      <td>170.589996</td>\n",
              "      <td>169.220001</td>\n",
              "      <td>169.229996</td>\n",
              "      <td>163.427597</td>\n",
              "      <td>25999900</td>\n",
              "    </tr>\n",
              "  </tbody>\n",
              "</table>\n",
              "<p>1259 rows × 7 columns</p>\n",
              "</div>"
            ],
            "text/plain": [
              "            Date        Open        High  ...       Close   Adj Close     Volume\n",
              "0     2013-01-02   79.117142   79.285713  ...   78.432854   68.502106  140129500\n",
              "1     2013-01-03   78.268570   78.524284  ...   77.442856   67.637436   88241300\n",
              "2     2013-01-04   76.709999   76.947144  ...   75.285713   65.753418  148583400\n",
              "3     2013-01-07   74.571426   75.614288  ...   74.842857   65.366646  121039100\n",
              "4     2013-01-08   75.601425   75.984283  ...   75.044289   65.542587  114676800\n",
              "...          ...         ...         ...  ...         ...         ...        ...\n",
              "1254  2017-12-22  174.679993  175.419998  ...  175.009995  169.009430   16349400\n",
              "1255  2017-12-26  170.800003  171.470001  ...  170.570007  164.721680   33185500\n",
              "1256  2017-12-27  170.100006  170.779999  ...  170.600006  164.750641   21498200\n",
              "1257  2017-12-28  171.000000  171.850006  ...  171.080002  165.214188   16480200\n",
              "1258  2017-12-29  170.520004  170.589996  ...  169.229996  163.427597   25999900\n",
              "\n",
              "[1259 rows x 7 columns]"
            ]
          },
          "metadata": {
            "tags": []
          },
          "execution_count": 87
        }
      ]
    },
    {
      "cell_type": "code",
      "metadata": {
        "colab": {
          "base_uri": "https://localhost:8080/"
        },
        "id": "p33Q98Ug4DKH",
        "outputId": "48b9bef0-9951-4f04-9b13-ed4c0fcd844d"
      },
      "source": [
        "apple_traning_processed = apple_traning_dataset.iloc[:, 1:2].values\n",
        "apple_traning_processed"
      ],
      "execution_count": null,
      "outputs": [
        {
          "output_type": "execute_result",
          "data": {
            "text/plain": [
              "array([[ 79.117142],\n",
              "       [ 78.26857 ],\n",
              "       [ 76.709999],\n",
              "       ...,\n",
              "       [170.100006],\n",
              "       [171.      ],\n",
              "       [170.520004]])"
            ]
          },
          "metadata": {
            "tags": []
          },
          "execution_count": 88
        }
      ]
    },
    {
      "cell_type": "code",
      "metadata": {
        "id": "ODa6jirz4K2r"
      },
      "source": [
        "from sklearn.preprocessing import MinMaxScaler"
      ],
      "execution_count": null,
      "outputs": []
    },
    {
      "cell_type": "code",
      "metadata": {
        "id": "m4xoLcea4QPY"
      },
      "source": [
        "scaler = MinMaxScaler(feature_range=(0, 1))\n",
        "\n",
        "apple_traning_scaled = scaler.fit_transform(apple_traning_processed)"
      ],
      "execution_count": null,
      "outputs": []
    },
    {
      "cell_type": "code",
      "metadata": {
        "colab": {
          "base_uri": "https://localhost:8080/"
        },
        "id": "cR1NJnru4h1B",
        "outputId": "d94e3d15-21e4-4a2d-df0c-3ff6c4de196f"
      },
      "source": [
        "len(apple_traning_scaled)"
      ],
      "execution_count": null,
      "outputs": [
        {
          "output_type": "execute_result",
          "data": {
            "text/plain": [
              "1259"
            ]
          },
          "metadata": {
            "tags": []
          },
          "execution_count": 91
        }
      ]
    },
    {
      "cell_type": "code",
      "metadata": {
        "id": "TNikkbzi4RdV"
      },
      "source": [
        "features_set = [] #input\n",
        "labels = [] #output\n",
        "for i in range(60, 1259):\n",
        "    features_set.append(apple_traning_scaled[i-60:i, 0])\n",
        "    labels.append(apple_traning_scaled[i, 0])"
      ],
      "execution_count": null,
      "outputs": []
    },
    {
      "cell_type": "code",
      "metadata": {
        "id": "_vV4EuTm4TdJ"
      },
      "source": [
        "features_set, labels = np.array(features_set), np.array(labels)"
      ],
      "execution_count": null,
      "outputs": []
    },
    {
      "cell_type": "code",
      "metadata": {
        "colab": {
          "base_uri": "https://localhost:8080/"
        },
        "id": "6VSKMlBL4aKT",
        "outputId": "0390299a-c8ab-4f35-e90b-785f20bd75a8"
      },
      "source": [
        "features_set.shape"
      ],
      "execution_count": null,
      "outputs": [
        {
          "output_type": "execute_result",
          "data": {
            "text/plain": [
              "(1199, 60)"
            ]
          },
          "metadata": {
            "tags": []
          },
          "execution_count": 94
        }
      ]
    },
    {
      "cell_type": "code",
      "metadata": {
        "id": "ey8Xd6kD4Uut"
      },
      "source": [
        "features_set = np.reshape(features_set, (features_set.shape[0], features_set.shape[1], 1))"
      ],
      "execution_count": null,
      "outputs": []
    },
    {
      "cell_type": "code",
      "metadata": {
        "colab": {
          "base_uri": "https://localhost:8080/"
        },
        "id": "jWXOqs4_5n-L",
        "outputId": "46f1bf81-ae4e-48f7-e241-60a0ca461099"
      },
      "source": [
        "features_set.shape"
      ],
      "execution_count": null,
      "outputs": [
        {
          "output_type": "execute_result",
          "data": {
            "text/plain": [
              "(1199, 60, 1)"
            ]
          },
          "metadata": {
            "tags": []
          },
          "execution_count": 96
        }
      ]
    },
    {
      "cell_type": "code",
      "metadata": {
        "id": "lwiVVz6U4XwX"
      },
      "source": [
        "from keras.models import Sequential\n",
        "from keras.layers import Dense\n",
        "from keras.layers import LSTM\n",
        "from keras.layers import Dropout"
      ],
      "execution_count": null,
      "outputs": []
    },
    {
      "cell_type": "code",
      "metadata": {
        "colab": {
          "base_uri": "https://localhost:8080/"
        },
        "id": "Bi9wIdni5RId",
        "outputId": "0a0d1f5c-7a7f-4586-ed09-9c19503ada06"
      },
      "source": [
        "features_set.shape[1]"
      ],
      "execution_count": null,
      "outputs": [
        {
          "output_type": "execute_result",
          "data": {
            "text/plain": [
              "60"
            ]
          },
          "metadata": {
            "tags": []
          },
          "execution_count": 98
        }
      ]
    },
    {
      "cell_type": "markdown",
      "metadata": {
        "id": "svJnUijRVXTs"
      },
      "source": [
        "#### 실습: 주가 예측 모델링을 직접 구현해보세요"
      ]
    },
    {
      "cell_type": "code",
      "metadata": {
        "id": "S5m7HQNP5L6x"
      },
      "source": [
        "model = Sequential()\n",
        "\n",
        "model.add(LSTM(units=50, return_sequences=True, input_shape=(features_set.shape[1], 1)))\n",
        "model.add(Dropout(0.2))\n",
        "model.add(LSTM(units=50, return_sequences=True))\n",
        "model.add(Dropout(0.2))\n",
        "model.add(LSTM(units=50))\n",
        "model.add(Dropout(0.2))\n",
        "\n",
        "model.add(Dense(units = 1))\n",
        "\n",
        "model.compile(optimizer = 'adam', loss = 'mean_squared_error', metrics=['mse'])"
      ],
      "execution_count": null,
      "outputs": []
    },
    {
      "cell_type": "code",
      "metadata": {
        "colab": {
          "base_uri": "https://localhost:8080/"
        },
        "id": "j1OAQHbW6yVz",
        "outputId": "55e39519-edde-4583-a168-f3e8fbe8b8c0"
      },
      "source": [
        "labels"
      ],
      "execution_count": null,
      "outputs": [
        {
          "output_type": "execute_result",
          "data": {
            "text/plain": [
              "array([0.06437097, 0.04730244, 0.05180235, ..., 0.95814041, 0.96566005,\n",
              "       0.96164958])"
            ]
          },
          "metadata": {
            "tags": []
          },
          "execution_count": 100
        }
      ]
    },
    {
      "cell_type": "code",
      "metadata": {
        "colab": {
          "base_uri": "https://localhost:8080/"
        },
        "id": "dpB6XhYf5a9N",
        "outputId": "c24eb327-9e26-4a3a-ee09-81ce0fa20609"
      },
      "source": [
        "model.fit(features_set, labels, epochs = 10, batch_size = 8)"
      ],
      "execution_count": null,
      "outputs": [
        {
          "output_type": "stream",
          "text": [
            "Epoch 1/10\n",
            "150/150 [==============================] - 5s 10ms/step - loss: 0.0418 - mse: 0.0418\n",
            "Epoch 2/10\n",
            "150/150 [==============================] - 2s 10ms/step - loss: 0.0046 - mse: 0.0046\n",
            "Epoch 3/10\n",
            "150/150 [==============================] - 2s 10ms/step - loss: 0.0038 - mse: 0.0038\n",
            "Epoch 4/10\n",
            "150/150 [==============================] - 2s 10ms/step - loss: 0.0031 - mse: 0.0031\n",
            "Epoch 5/10\n",
            "150/150 [==============================] - 2s 10ms/step - loss: 0.0036 - mse: 0.0036\n",
            "Epoch 6/10\n",
            "150/150 [==============================] - 2s 10ms/step - loss: 0.0032 - mse: 0.0032\n",
            "Epoch 7/10\n",
            "150/150 [==============================] - 2s 10ms/step - loss: 0.0029 - mse: 0.0029\n",
            "Epoch 8/10\n",
            "150/150 [==============================] - 2s 10ms/step - loss: 0.0027 - mse: 0.0027\n",
            "Epoch 9/10\n",
            "150/150 [==============================] - 2s 10ms/step - loss: 0.0025 - mse: 0.0025\n",
            "Epoch 10/10\n",
            "150/150 [==============================] - 2s 10ms/step - loss: 0.0025 - mse: 0.0025\n"
          ],
          "name": "stdout"
        },
        {
          "output_type": "execute_result",
          "data": {
            "text/plain": [
              "<tensorflow.python.keras.callbacks.History at 0x7fde5561dd30>"
            ]
          },
          "metadata": {
            "tags": []
          },
          "execution_count": 101
        }
      ]
    },
    {
      "cell_type": "code",
      "metadata": {
        "id": "FuS-MpOCOzTt"
      },
      "source": [
        "orig_url='https://drive.google.com/file/d/13jF_7l_Dhjio_NEGi6ClBLOuPCsNlxzv/view?usp=sharing'\n",
        "file_id = orig_url.split('/')[-2] #파일 id 추출\n",
        "dwn_url='https://drive.google.com/uc?export=download&id=' + file_id #다운로드 url 지정\n",
        "url = requests.get(dwn_url).text #dwn_url을 통해 request\n",
        "csv_raw = StringIO(url) #객체 처리\n",
        "df2 = pd.read_csv(csv_raw) #추출된 url read"
      ],
      "execution_count": null,
      "outputs": []
    },
    {
      "cell_type": "code",
      "metadata": {
        "id": "pQM-sooW5f_H"
      },
      "source": [
        "apple_testing_complete = df2.copy()\n",
        "apple_testing_processed = apple_testing_complete.iloc[:, 1:2].values"
      ],
      "execution_count": null,
      "outputs": []
    },
    {
      "cell_type": "code",
      "metadata": {
        "id": "UbFDuwil9OQk"
      },
      "source": [
        "apple_total = pd.concat((apple_traning_dataset['Open'], apple_testing_complete['Open']), axis=0)"
      ],
      "execution_count": null,
      "outputs": []
    },
    {
      "cell_type": "code",
      "metadata": {
        "id": "Y4zLnBaz9QBY"
      },
      "source": [
        "test_inputs = apple_total[len(apple_total) - len(apple_testing_complete) - 60:].values"
      ],
      "execution_count": null,
      "outputs": []
    },
    {
      "cell_type": "code",
      "metadata": {
        "colab": {
          "base_uri": "https://localhost:8080/"
        },
        "id": "0RCqvSEB9Rql",
        "outputId": "dd132b01-9095-4074-f8cd-577aa4a14640"
      },
      "source": [
        "test_inputs"
      ],
      "execution_count": null,
      "outputs": [
        {
          "output_type": "execute_result",
          "data": {
            "text/plain": [
              "array([154.179993, 154.970001, 155.809998, 156.059998, 155.970001,\n",
              "       156.350006, 156.729996, 157.899994, 159.779999, 160.419998,\n",
              "       156.75    , 156.610001, 156.889999, 156.289993, 156.910004,\n",
              "       157.229996, 159.289993, 163.889999, 167.899994, 169.869995,\n",
              "       166.600006, 174.      , 172.369995, 173.910004, 174.660004,\n",
              "       175.110001, 175.110001, 173.5     , 173.039993, 169.970001,\n",
              "       171.179993, 171.039993, 170.289993, 170.779999, 173.360001,\n",
              "       175.100006, 175.050003, 174.300003, 172.630005, 170.429993,\n",
              "       169.949997, 172.479996, 169.059998, 167.5     , 169.029999,\n",
              "       170.490005, 169.199997, 172.149994, 172.5     , 172.399994,\n",
              "       173.630005, 174.880005, 175.029999, 174.869995, 174.169998,\n",
              "       174.679993, 170.800003, 170.100006, 171.      , 170.520004,\n",
              "       170.160004, 172.529999, 172.539993, 173.440002, 174.350006,\n",
              "       174.550003, 173.160004, 174.589996, 176.179993, 177.899994,\n",
              "       176.149994, 179.369995, 178.610001, 177.300003, 177.300003,\n",
              "       177.25    , 174.509995, 172.      , 170.160004, 165.529999])"
            ]
          },
          "metadata": {
            "tags": []
          },
          "execution_count": 195
        }
      ]
    },
    {
      "cell_type": "code",
      "metadata": {
        "id": "8bhfjSRK9S5o"
      },
      "source": [
        "test_inputs = test_inputs.reshape(-1,1)\n",
        "test_inputs = scaler.transform(test_inputs)"
      ],
      "execution_count": null,
      "outputs": []
    },
    {
      "cell_type": "code",
      "metadata": {
        "id": "DJqzM7sn9Ua3"
      },
      "source": [
        "test_features = []\n",
        "for i in range(60, 80):\n",
        "    test_features.append(test_inputs[i-60:i, 0])"
      ],
      "execution_count": null,
      "outputs": []
    },
    {
      "cell_type": "code",
      "metadata": {
        "id": "Fepcn4o29Ypx"
      },
      "source": [
        "test_features = np.array(test_features)\n",
        "test_features = np.reshape(test_features, (test_features.shape[0], test_features.shape[1], 1))"
      ],
      "execution_count": null,
      "outputs": []
    },
    {
      "cell_type": "code",
      "metadata": {
        "id": "6CecabX29Z9K"
      },
      "source": [
        "predictions = model.predict(test_features)"
      ],
      "execution_count": null,
      "outputs": []
    },
    {
      "cell_type": "code",
      "metadata": {
        "id": "tqCYhe7p9bIm"
      },
      "source": [
        "predictions = scaler.inverse_transform(predictions)"
      ],
      "execution_count": null,
      "outputs": []
    },
    {
      "cell_type": "code",
      "metadata": {
        "colab": {
          "base_uri": "https://localhost:8080/",
          "height": 350
        },
        "id": "tUJGKqXQ9cjn",
        "outputId": "f8570370-c6cc-4d06-ed86-60e22b6f7995"
      },
      "source": [
        "plt.figure(figsize=(15,5))\n",
        "plt.plot(apple_testing_processed, color='blue', label='real price')\n",
        "plt.plot(predictions , color='red', label='predicted price')\n",
        "plt.title('Apple Stock Price Prediction')\n",
        "plt.xlabel('Date')\n",
        "plt.ylabel('Apple Stock Price')\n",
        "plt.legend()\n",
        "plt.show()"
      ],
      "execution_count": null,
      "outputs": [
        {
          "output_type": "display_data",
          "data": {
            "image/png": "[encoded data removed]",
            "text/plain": [
              "<Figure size 1080x360 with 1 Axes>"
            ]
          },
          "metadata": {
            "tags": [],
            "needs_background": "light"
          }
        }
      ]
    },
    {
      "cell_type": "markdown",
      "metadata": {
        "id": "PyxYGORHJWmD"
      },
      "source": [
        "### 가정집 전력 사용량 예측"
      ]
    },
    {
      "cell_type": "code",
      "metadata": {
        "colab": {
          "base_uri": "https://localhost:8080/"
        },
        "id": "YncufFU7HIqV",
        "outputId": "136b5916-a441-420e-94a8-ed9b4e6e37eb"
      },
      "source": [
        "from google.colab import drive\n",
        "drive.mount('/content/drive')"
      ],
      "execution_count": null,
      "outputs": [
        {
          "output_type": "stream",
          "text": [
            "Drive already mounted at /content/drive; to attempt to forcibly remount, call drive.mount(\"/content/drive\", force_remount=True).\n"
          ],
          "name": "stdout"
        }
      ]
    },
    {
      "cell_type": "code",
      "metadata": {
        "id": "cxBoBz6EJgEx"
      },
      "source": [
        "# Let`s import all packages that we may need:\n",
        "\n",
        "import sys\n",
        "import numpy as np # linear algebra\n",
        "from scipy.stats import randint\n",
        "import pandas as pd # data processing, CSV file I/O (e.g. pd.read_csv), data manipulation as in SQL\n",
        "import matplotlib.pyplot as plt # this is used for the plot the graph\n",
        "import seaborn as sns # used for plot interactive graph.\n",
        "from sklearn.model_selection import train_test_split # to split the data into two parts\n",
        "import sklearn\n",
        "from sklearn.preprocessing import StandardScaler # for normalization\n",
        "from sklearn.preprocessing import MinMaxScaler\n",
        "from sklearn.pipeline import Pipeline # pipeline making\n",
        "from sklearn.model_selection import cross_val_score\n",
        "from sklearn.feature_selection import SelectFromModel\n",
        "from sklearn import metrics # for the check the error and accuracy of the model\n",
        "from sklearn.metrics import mean_squared_error,r2_score\n",
        "\n",
        "## for Deep-learing:\n",
        "import keras\n",
        "from keras.layers import Dense\n",
        "from keras.models import Sequential\n",
        "from keras.utils import to_categorical\n",
        "from keras.optimizers import SGD\n",
        "from keras.callbacks import EarlyStopping\n",
        "from keras.utils import np_utils\n",
        "import itertools\n",
        "from keras.layers import LSTM\n",
        "from keras.layers.convolutional import Conv1D\n",
        "from keras.layers.convolutional import MaxPooling1D\n",
        "from keras.layers import Dropout"
      ],
      "execution_count": null,
      "outputs": []
    },
    {
      "cell_type": "code",
      "metadata": {
        "id": "nDQllAyhJid3"
      },
      "source": [
        "## Data can be downloaded from: http://archive.ics.uci.edu/ml/machine-learning-databases/00235/\n",
        "## Just open the zip file and grab the file 'household_power_consumption.txt' put it in the directory\n",
        "## that you would like to run the code.\n",
        "\n",
        "\n",
        "df = pd.read_csv('/content/drive/My Drive/data/household_power_consumption.txt', sep=';',\n",
        "                 parse_dates={'dt' : ['Date', 'Time']}, infer_datetime_format=True,\n",
        "                 low_memory=False, na_values=['nan','?'], index_col='dt')"
      ],
      "execution_count": null,
      "outputs": []
    },
    {
      "cell_type": "code",
      "metadata": {
        "colab": {
          "base_uri": "https://localhost:8080/",
          "height": 228
        },
        "id": "KOtgov02J0ml",
        "outputId": "a2978d46-b51b-41de-c774-3460cc98e504"
      },
      "source": [
        "df.head()"
      ],
      "execution_count": null,
      "outputs": [
        {
          "output_type": "execute_result",
          "data": {
            "text/html": [
              "<div>\n",
              "<style scoped>\n",
              "    .dataframe tbody tr th:only-of-type {\n",
              "        vertical-align: middle;\n",
              "    }\n",
              "\n",
              "    .dataframe tbody tr th {\n",
              "        vertical-align: top;\n",
              "    }\n",
              "\n",
              "    .dataframe thead th {\n",
              "        text-align: right;\n",
              "    }\n",
              "</style>\n",
              "<table border=\"1\" class=\"dataframe\">\n",
              "  <thead>\n",
              "    <tr style=\"text-align: right;\">\n",
              "      <th></th>\n",
              "      <th>Global_active_power</th>\n",
              "      <th>Global_reactive_power</th>\n",
              "      <th>Voltage</th>\n",
              "      <th>Global_intensity</th>\n",
              "      <th>Sub_metering_1</th>\n",
              "      <th>Sub_metering_2</th>\n",
              "      <th>Sub_metering_3</th>\n",
              "    </tr>\n",
              "    <tr>\n",
              "      <th>dt</th>\n",
              "      <th></th>\n",
              "      <th></th>\n",
              "      <th></th>\n",
              "      <th></th>\n",
              "      <th></th>\n",
              "      <th></th>\n",
              "      <th></th>\n",
              "    </tr>\n",
              "  </thead>\n",
              "  <tbody>\n",
              "    <tr>\n",
              "      <th>2006-12-16 17:24:00</th>\n",
              "      <td>4.22</td>\n",
              "      <td>0.42</td>\n",
              "      <td>234.84</td>\n",
              "      <td>18.40</td>\n",
              "      <td>0.00</td>\n",
              "      <td>1.00</td>\n",
              "      <td>17.00</td>\n",
              "    </tr>\n",
              "    <tr>\n",
              "      <th>2006-12-16 17:25:00</th>\n",
              "      <td>5.36</td>\n",
              "      <td>0.44</td>\n",
              "      <td>233.63</td>\n",
              "      <td>23.00</td>\n",
              "      <td>0.00</td>\n",
              "      <td>1.00</td>\n",
              "      <td>16.00</td>\n",
              "    </tr>\n",
              "    <tr>\n",
              "      <th>2006-12-16 17:26:00</th>\n",
              "      <td>5.37</td>\n",
              "      <td>0.50</td>\n",
              "      <td>233.29</td>\n",
              "      <td>23.00</td>\n",
              "      <td>0.00</td>\n",
              "      <td>2.00</td>\n",
              "      <td>17.00</td>\n",
              "    </tr>\n",
              "    <tr>\n",
              "      <th>2006-12-16 17:27:00</th>\n",
              "      <td>5.39</td>\n",
              "      <td>0.50</td>\n",
              "      <td>233.74</td>\n",
              "      <td>23.00</td>\n",
              "      <td>0.00</td>\n",
              "      <td>1.00</td>\n",
              "      <td>17.00</td>\n",
              "    </tr>\n",
              "    <tr>\n",
              "      <th>2006-12-16 17:28:00</th>\n",
              "      <td>3.67</td>\n",
              "      <td>0.53</td>\n",
              "      <td>235.68</td>\n",
              "      <td>15.80</td>\n",
              "      <td>0.00</td>\n",
              "      <td>1.00</td>\n",
              "      <td>17.00</td>\n",
              "    </tr>\n",
              "  </tbody>\n",
              "</table>\n",
              "</div>"
            ],
            "text/plain": [
              "                     Global_active_power  Global_reactive_power  Voltage  \\\n",
              "dt                                                                         \n",
              "2006-12-16 17:24:00                 4.22                   0.42   234.84   \n",
              "2006-12-16 17:25:00                 5.36                   0.44   233.63   \n",
              "2006-12-16 17:26:00                 5.37                   0.50   233.29   \n",
              "2006-12-16 17:27:00                 5.39                   0.50   233.74   \n",
              "2006-12-16 17:28:00                 3.67                   0.53   235.68   \n",
              "\n",
              "                     Global_intensity  Sub_metering_1  Sub_metering_2  \\\n",
              "dt                                                                      \n",
              "2006-12-16 17:24:00             18.40            0.00            1.00   \n",
              "2006-12-16 17:25:00             23.00            0.00            1.00   \n",
              "2006-12-16 17:26:00             23.00            0.00            2.00   \n",
              "2006-12-16 17:27:00             23.00            0.00            1.00   \n",
              "2006-12-16 17:28:00             15.80            0.00            1.00   \n",
              "\n",
              "                     Sub_metering_3  \n",
              "dt                                   \n",
              "2006-12-16 17:24:00           17.00  \n",
              "2006-12-16 17:25:00           16.00  \n",
              "2006-12-16 17:26:00           17.00  \n",
              "2006-12-16 17:27:00           17.00  \n",
              "2006-12-16 17:28:00           17.00  "
            ]
          },
          "metadata": {
            "tags": []
          },
          "execution_count": 205
        }
      ]
    },
    {
      "cell_type": "code",
      "metadata": {
        "colab": {
          "base_uri": "https://localhost:8080/"
        },
        "id": "y5n9Y3HjJ37-",
        "outputId": "d3710572-7a0a-41dd-e27f-b93c70e92a2f"
      },
      "source": [
        "df.info()"
      ],
      "execution_count": null,
      "outputs": [
        {
          "output_type": "stream",
          "text": [
            "<class 'pandas.core.frame.DataFrame'>\n",
            "DatetimeIndex: 2075259 entries, 2006-12-16 17:24:00 to 2010-11-26 21:02:00\n",
            "Data columns (total 7 columns):\n",
            " #   Column                 Dtype  \n",
            "---  ------                 -----  \n",
            " 0   Global_active_power    float64\n",
            " 1   Global_reactive_power  float64\n",
            " 2   Voltage                float64\n",
            " 3   Global_intensity       float64\n",
            " 4   Sub_metering_1         float64\n",
            " 5   Sub_metering_2         float64\n",
            " 6   Sub_metering_3         float64\n",
            "dtypes: float64(7)\n",
            "memory usage: 126.7 MB\n"
          ],
          "name": "stdout"
        }
      ]
    },
    {
      "cell_type": "code",
      "metadata": {
        "colab": {
          "base_uri": "https://localhost:8080/",
          "height": 288
        },
        "id": "W_P83bUsJ7co",
        "outputId": "6ca19f66-d62d-4023-dc69-2e9a49058084"
      },
      "source": [
        "df.describe()"
      ],
      "execution_count": null,
      "outputs": [
        {
          "output_type": "execute_result",
          "data": {
            "text/html": [
              "<div>\n",
              "<style scoped>\n",
              "    .dataframe tbody tr th:only-of-type {\n",
              "        vertical-align: middle;\n",
              "    }\n",
              "\n",
              "    .dataframe tbody tr th {\n",
              "        vertical-align: top;\n",
              "    }\n",
              "\n",
              "    .dataframe thead th {\n",
              "        text-align: right;\n",
              "    }\n",
              "</style>\n",
              "<table border=\"1\" class=\"dataframe\">\n",
              "  <thead>\n",
              "    <tr style=\"text-align: right;\">\n",
              "      <th></th>\n",
              "      <th>Global_active_power</th>\n",
              "      <th>Global_reactive_power</th>\n",
              "      <th>Voltage</th>\n",
              "      <th>Global_intensity</th>\n",
              "      <th>Sub_metering_1</th>\n",
              "      <th>Sub_metering_2</th>\n",
              "      <th>Sub_metering_3</th>\n",
              "    </tr>\n",
              "  </thead>\n",
              "  <tbody>\n",
              "    <tr>\n",
              "      <th>count</th>\n",
              "      <td>2049280.00</td>\n",
              "      <td>2049280.00</td>\n",
              "      <td>2049280.00</td>\n",
              "      <td>2049280.00</td>\n",
              "      <td>2049280.00</td>\n",
              "      <td>2049280.00</td>\n",
              "      <td>2049280.00</td>\n",
              "    </tr>\n",
              "    <tr>\n",
              "      <th>mean</th>\n",
              "      <td>1.09</td>\n",
              "      <td>0.12</td>\n",
              "      <td>240.84</td>\n",
              "      <td>4.63</td>\n",
              "      <td>1.12</td>\n",
              "      <td>1.30</td>\n",
              "      <td>6.46</td>\n",
              "    </tr>\n",
              "    <tr>\n",
              "      <th>std</th>\n",
              "      <td>1.06</td>\n",
              "      <td>0.11</td>\n",
              "      <td>3.24</td>\n",
              "      <td>4.44</td>\n",
              "      <td>6.15</td>\n",
              "      <td>5.82</td>\n",
              "      <td>8.44</td>\n",
              "    </tr>\n",
              "    <tr>\n",
              "      <th>min</th>\n",
              "      <td>0.08</td>\n",
              "      <td>0.00</td>\n",
              "      <td>223.20</td>\n",
              "      <td>0.20</td>\n",
              "      <td>0.00</td>\n",
              "      <td>0.00</td>\n",
              "      <td>0.00</td>\n",
              "    </tr>\n",
              "    <tr>\n",
              "      <th>25%</th>\n",
              "      <td>0.31</td>\n",
              "      <td>0.05</td>\n",
              "      <td>238.99</td>\n",
              "      <td>1.40</td>\n",
              "      <td>0.00</td>\n",
              "      <td>0.00</td>\n",
              "      <td>0.00</td>\n",
              "    </tr>\n",
              "    <tr>\n",
              "      <th>50%</th>\n",
              "      <td>0.60</td>\n",
              "      <td>0.10</td>\n",
              "      <td>241.01</td>\n",
              "      <td>2.60</td>\n",
              "      <td>0.00</td>\n",
              "      <td>0.00</td>\n",
              "      <td>1.00</td>\n",
              "    </tr>\n",
              "    <tr>\n",
              "      <th>75%</th>\n",
              "      <td>1.53</td>\n",
              "      <td>0.19</td>\n",
              "      <td>242.89</td>\n",
              "      <td>6.40</td>\n",
              "      <td>0.00</td>\n",
              "      <td>1.00</td>\n",
              "      <td>17.00</td>\n",
              "    </tr>\n",
              "    <tr>\n",
              "      <th>max</th>\n",
              "      <td>11.12</td>\n",
              "      <td>1.39</td>\n",
              "      <td>254.15</td>\n",
              "      <td>48.40</td>\n",
              "      <td>88.00</td>\n",
              "      <td>80.00</td>\n",
              "      <td>31.00</td>\n",
              "    </tr>\n",
              "  </tbody>\n",
              "</table>\n",
              "</div>"
            ],
            "text/plain": [
              "       Global_active_power  Global_reactive_power    Voltage  \\\n",
              "count           2049280.00             2049280.00 2049280.00   \n",
              "mean                  1.09                   0.12     240.84   \n",
              "std                   1.06                   0.11       3.24   \n",
              "min                   0.08                   0.00     223.20   \n",
              "25%                   0.31                   0.05     238.99   \n",
              "50%                   0.60                   0.10     241.01   \n",
              "75%                   1.53                   0.19     242.89   \n",
              "max                  11.12                   1.39     254.15   \n",
              "\n",
              "       Global_intensity  Sub_metering_1  Sub_metering_2  Sub_metering_3  \n",
              "count        2049280.00      2049280.00      2049280.00      2049280.00  \n",
              "mean               4.63            1.12            1.30            6.46  \n",
              "std                4.44            6.15            5.82            8.44  \n",
              "min                0.20            0.00            0.00            0.00  \n",
              "25%                1.40            0.00            0.00            0.00  \n",
              "50%                2.60            0.00            0.00            1.00  \n",
              "75%                6.40            0.00            1.00           17.00  \n",
              "max               48.40           88.00           80.00           31.00  "
            ]
          },
          "metadata": {
            "tags": []
          },
          "execution_count": 207
        }
      ]
    },
    {
      "cell_type": "code",
      "metadata": {
        "colab": {
          "base_uri": "https://localhost:8080/"
        },
        "id": "dSuhX3p9J9wx",
        "outputId": "e5d9c1da-b090-4c7d-832f-50e47c34abc0"
      },
      "source": [
        "df.columns"
      ],
      "execution_count": null,
      "outputs": [
        {
          "output_type": "execute_result",
          "data": {
            "text/plain": [
              "Index(['Global_active_power', 'Global_reactive_power', 'Voltage',\n",
              "       'Global_intensity', 'Sub_metering_1', 'Sub_metering_2',\n",
              "       'Sub_metering_3'],\n",
              "      dtype='object')"
            ]
          },
          "metadata": {
            "tags": []
          },
          "execution_count": 208
        }
      ]
    },
    {
      "cell_type": "code",
      "metadata": {
        "colab": {
          "base_uri": "https://localhost:8080/"
        },
        "id": "tnZ71mnzKO3R",
        "outputId": "92a54167-89b1-4d7f-cf65-d15185b94767"
      },
      "source": [
        "# another sanity check to make sure that there are not more any nan\n",
        "df.isnull().sum()"
      ],
      "execution_count": null,
      "outputs": [
        {
          "output_type": "execute_result",
          "data": {
            "text/plain": [
              "Global_active_power      25979\n",
              "Global_reactive_power    25979\n",
              "Voltage                  25979\n",
              "Global_intensity         25979\n",
              "Sub_metering_1           25979\n",
              "Sub_metering_2           25979\n",
              "Sub_metering_3           25979\n",
              "dtype: int64"
            ]
          },
          "metadata": {
            "tags": []
          },
          "execution_count": 209
        }
      ]
    },
    {
      "cell_type": "code",
      "metadata": {
        "colab": {
          "base_uri": "https://localhost:8080/",
          "height": 592
        },
        "id": "VYfL0xAIKXx8",
        "outputId": "c87b833b-ab7d-4762-ff8f-55b7db867879"
      },
      "source": [
        "# Below I compare the mean of different featuresresampled over day.\n",
        "# specify columns to plot\n",
        "cols = [0, 1, 2, 3, 5, 6]\n",
        "i = 1\n",
        "groups=cols\n",
        "values = df.resample('D').mean().values\n",
        "# plot each column\n",
        "plt.figure(figsize=(15, 10))\n",
        "for group in groups:\n",
        "\tplt.subplot(len(cols), 1, i)\n",
        "\tplt.plot(values[:, group])\n",
        "\tplt.title(df.columns[group], y=0.75, loc='right')\n",
        "\ti += 1\n",
        "plt.show()"
      ],
      "execution_count": null,
      "outputs": [
        {
          "output_type": "display_data",
          "data": {
            "image/png": "[encoded data removed]",
            "text/plain": [
              "<Figure size 1080x720 with 6 Axes>"
            ]
          },
          "metadata": {
            "tags": [],
            "needs_background": "light"
          }
        }
      ]
    },
    {
      "cell_type": "code",
      "metadata": {
        "id": "ZI1wqkh5Kc1g"
      },
      "source": [
        "def series_to_supervised(data, n_in=1, n_out=1, dropnan=True):\n",
        "\tn_vars = 1 if type(data) is list else data.shape[1]\n",
        "\tdff = pd.DataFrame(data)\n",
        "\tcols, names = list(), list()\n",
        "\t# input sequence (t-n, ... t-1)\n",
        "\tfor i in range(n_in, 0, -1):\n",
        "\t\tcols.append(dff.shift(i))\n",
        "\t\tnames += [('var%d(t-%d)' % (j+1, i)) for j in range(n_vars)]\n",
        "\t# forecast sequence (t, t+1, ... t+n)\n",
        "\tfor i in range(0, n_out):\n",
        "\t\tcols.append(dff.shift(-i))\n",
        "\t\tif i == 0:\n",
        "\t\t\tnames += [('var%d(t)' % (j+1)) for j in range(n_vars)]\n",
        "\t\telse:\n",
        "\t\t\tnames += [('var%d(t+%d)' % (j+1, i)) for j in range(n_vars)]\n",
        "\t# put it all together\n",
        "\tagg = pd.concat(cols, axis=1)\n",
        "\tagg.columns = names\n",
        "\t# drop rows with NaN values\n",
        "\tif dropnan:\n",
        "\t\tagg.dropna(inplace=True)\n",
        "\treturn agg"
      ],
      "execution_count": null,
      "outputs": []
    },
    {
      "cell_type": "code",
      "metadata": {
        "colab": {
          "base_uri": "https://localhost:8080/"
        },
        "id": "pZN6WiGCZeyD",
        "outputId": "7291d299-c373-4036-f6f5-5a1e2fc4e5aa"
      },
      "source": [
        "df.shape"
      ],
      "execution_count": null,
      "outputs": [
        {
          "output_type": "execute_result",
          "data": {
            "text/plain": [
              "(2075259, 7)"
            ]
          },
          "metadata": {
            "tags": []
          },
          "execution_count": 221
        }
      ]
    },
    {
      "cell_type": "code",
      "metadata": {
        "colab": {
          "base_uri": "https://localhost:8080/"
        },
        "id": "g2FVQl_uKmmQ",
        "outputId": "09e93402-fa86-4a7e-f35b-69443403d866"
      },
      "source": [
        "## resampling of data over hour\n",
        "df_resample = df.resample('h').mean()\n",
        "df_resample.shape"
      ],
      "execution_count": null,
      "outputs": [
        {
          "output_type": "execute_result",
          "data": {
            "text/plain": [
              "(34589, 7)"
            ]
          },
          "metadata": {
            "tags": []
          },
          "execution_count": 212
        }
      ]
    },
    {
      "cell_type": "code",
      "metadata": {
        "colab": {
          "base_uri": "https://localhost:8080/",
          "height": 228
        },
        "id": "qD1wjl15LNKV",
        "outputId": "f8868828-9271-4625-82a6-b973ae3e23f7"
      },
      "source": [
        "df_resample.head()"
      ],
      "execution_count": null,
      "outputs": [
        {
          "output_type": "execute_result",
          "data": {
            "text/html": [
              "<div>\n",
              "<style scoped>\n",
              "    .dataframe tbody tr th:only-of-type {\n",
              "        vertical-align: middle;\n",
              "    }\n",
              "\n",
              "    .dataframe tbody tr th {\n",
              "        vertical-align: top;\n",
              "    }\n",
              "\n",
              "    .dataframe thead th {\n",
              "        text-align: right;\n",
              "    }\n",
              "</style>\n",
              "<table border=\"1\" class=\"dataframe\">\n",
              "  <thead>\n",
              "    <tr style=\"text-align: right;\">\n",
              "      <th></th>\n",
              "      <th>Global_active_power</th>\n",
              "      <th>Global_reactive_power</th>\n",
              "      <th>Voltage</th>\n",
              "      <th>Global_intensity</th>\n",
              "      <th>Sub_metering_1</th>\n",
              "      <th>Sub_metering_2</th>\n",
              "      <th>Sub_metering_3</th>\n",
              "    </tr>\n",
              "    <tr>\n",
              "      <th>dt</th>\n",
              "      <th></th>\n",
              "      <th></th>\n",
              "      <th></th>\n",
              "      <th></th>\n",
              "      <th></th>\n",
              "      <th></th>\n",
              "      <th></th>\n",
              "    </tr>\n",
              "  </thead>\n",
              "  <tbody>\n",
              "    <tr>\n",
              "      <th>2006-12-16 17:00:00</th>\n",
              "      <td>4.22</td>\n",
              "      <td>0.23</td>\n",
              "      <td>234.64</td>\n",
              "      <td>18.10</td>\n",
              "      <td>0.00</td>\n",
              "      <td>0.53</td>\n",
              "      <td>16.86</td>\n",
              "    </tr>\n",
              "    <tr>\n",
              "      <th>2006-12-16 18:00:00</th>\n",
              "      <td>3.63</td>\n",
              "      <td>0.08</td>\n",
              "      <td>234.58</td>\n",
              "      <td>15.60</td>\n",
              "      <td>0.00</td>\n",
              "      <td>6.72</td>\n",
              "      <td>16.87</td>\n",
              "    </tr>\n",
              "    <tr>\n",
              "      <th>2006-12-16 19:00:00</th>\n",
              "      <td>3.40</td>\n",
              "      <td>0.09</td>\n",
              "      <td>233.23</td>\n",
              "      <td>14.50</td>\n",
              "      <td>0.00</td>\n",
              "      <td>1.43</td>\n",
              "      <td>16.68</td>\n",
              "    </tr>\n",
              "    <tr>\n",
              "      <th>2006-12-16 20:00:00</th>\n",
              "      <td>3.27</td>\n",
              "      <td>0.08</td>\n",
              "      <td>234.07</td>\n",
              "      <td>13.92</td>\n",
              "      <td>0.00</td>\n",
              "      <td>0.00</td>\n",
              "      <td>16.78</td>\n",
              "    </tr>\n",
              "    <tr>\n",
              "      <th>2006-12-16 21:00:00</th>\n",
              "      <td>3.06</td>\n",
              "      <td>0.08</td>\n",
              "      <td>237.16</td>\n",
              "      <td>13.05</td>\n",
              "      <td>0.00</td>\n",
              "      <td>0.42</td>\n",
              "      <td>17.22</td>\n",
              "    </tr>\n",
              "  </tbody>\n",
              "</table>\n",
              "</div>"
            ],
            "text/plain": [
              "                     Global_active_power  Global_reactive_power  Voltage  \\\n",
              "dt                                                                         \n",
              "2006-12-16 17:00:00                 4.22                   0.23   234.64   \n",
              "2006-12-16 18:00:00                 3.63                   0.08   234.58   \n",
              "2006-12-16 19:00:00                 3.40                   0.09   233.23   \n",
              "2006-12-16 20:00:00                 3.27                   0.08   234.07   \n",
              "2006-12-16 21:00:00                 3.06                   0.08   237.16   \n",
              "\n",
              "                     Global_intensity  Sub_metering_1  Sub_metering_2  \\\n",
              "dt                                                                      \n",
              "2006-12-16 17:00:00             18.10            0.00            0.53   \n",
              "2006-12-16 18:00:00             15.60            0.00            6.72   \n",
              "2006-12-16 19:00:00             14.50            0.00            1.43   \n",
              "2006-12-16 20:00:00             13.92            0.00            0.00   \n",
              "2006-12-16 21:00:00             13.05            0.00            0.42   \n",
              "\n",
              "                     Sub_metering_3  \n",
              "dt                                   \n",
              "2006-12-16 17:00:00           16.86  \n",
              "2006-12-16 18:00:00           16.87  \n",
              "2006-12-16 19:00:00           16.68  \n",
              "2006-12-16 20:00:00           16.78  \n",
              "2006-12-16 21:00:00           17.22  "
            ]
          },
          "metadata": {
            "tags": []
          },
          "execution_count": 213
        }
      ]
    },
    {
      "cell_type": "code",
      "metadata": {
        "colab": {
          "base_uri": "https://localhost:8080/"
        },
        "id": "ATvaF_wTLGDe",
        "outputId": "2fc9e8a3-32a2-42f7-b6c1-4304af249e23"
      },
      "source": [
        "## * Note: I scale all features in range of [0,1].\n",
        "\n",
        "## If you would like to train based on the resampled data (over hour), then used below\n",
        "values = df_resample.values\n",
        "\n",
        "\n",
        "## full data without resampling\n",
        "#values = df.values\n",
        "\n",
        "# integer encode direction\n",
        "# ensure all data is float\n",
        "# values = values.astype('float32')\n",
        "# normalize features\n",
        "scaler = MinMaxScaler(feature_range=(0, 1))\n",
        "scaled = scaler.fit_transform(values)\n",
        "# frame as supervised learning\n",
        "reframed = series_to_supervised(scaled, 1, 1)\n",
        "\n",
        "# drop columns we don't want to predict\n",
        "reframed.drop(reframed.columns[[8,9,10,11,12,13]], axis=1, inplace=True)\n",
        "print(reframed.head())"
      ],
      "execution_count": null,
      "outputs": [
        {
          "output_type": "stream",
          "text": [
            "   var1(t-1)  var2(t-1)  var3(t-1)  var4(t-1)  var5(t-1)  var6(t-1)  \\\n",
            "1       0.64       0.30       0.34       0.63       0.00       0.01   \n",
            "2       0.55       0.10       0.34       0.54       0.00       0.14   \n",
            "3       0.51       0.11       0.28       0.50       0.00       0.03   \n",
            "4       0.49       0.10       0.32       0.48       0.00       0.00   \n",
            "5       0.46       0.10       0.43       0.45       0.00       0.01   \n",
            "\n",
            "   var7(t-1)  var1(t)  \n",
            "1       0.78     0.55  \n",
            "2       0.78     0.51  \n",
            "3       0.77     0.49  \n",
            "4       0.78     0.46  \n",
            "5       0.80     0.32  \n"
          ],
          "name": "stdout"
        }
      ]
    },
    {
      "cell_type": "code",
      "metadata": {
        "colab": {
          "base_uri": "https://localhost:8080/"
        },
        "id": "hKYsGNPgLJbf",
        "outputId": "4e79a9a1-534c-4742-de69-684ec9290f27"
      },
      "source": [
        "# split into train and test sets\n",
        "values = reframed.values\n",
        "\n",
        "n_train_time = 365*24\n",
        "train = values[:n_train_time, :]\n",
        "test = values[n_train_time:, :]\n",
        "##test = values[n_train_time:n_test_time, :]\n",
        "# split into input and outputs\n",
        "train_X, train_y = train[:, :-1], train[:, -1]\n",
        "test_X, test_y = test[:, :-1], test[:, -1]\n",
        "# reshape input to be 3D [samples, timesteps, features]\n",
        "train_X = train_X.reshape((train_X.shape[0], 1, train_X.shape[1]))\n",
        "test_X = test_X.reshape((test_X.shape[0], 1, test_X.shape[1]))\n",
        "print(train_X.shape, train_y.shape, test_X.shape, test_y.shape)\n",
        "# We reshaped the input into the 3D format as expected by LSTMs, namely [samples, timesteps, features]."
      ],
      "execution_count": null,
      "outputs": [
        {
          "output_type": "stream",
          "text": [
            "(8760, 1, 7) (8760,) (25399, 1, 7) (25399,)\n"
          ],
          "name": "stdout"
        }
      ]
    },
    {
      "cell_type": "code",
      "metadata": {
        "colab": {
          "base_uri": "https://localhost:8080/"
        },
        "id": "qMn0tkPlMIlJ",
        "outputId": "8f3e6a25-021e-4ade-f879-841b4bb92d54"
      },
      "source": [
        "train_X.shape[0]"
      ],
      "execution_count": null,
      "outputs": [
        {
          "output_type": "execute_result",
          "data": {
            "text/plain": [
              "8760"
            ]
          },
          "metadata": {
            "tags": []
          },
          "execution_count": 216
        }
      ]
    },
    {
      "cell_type": "code",
      "metadata": {
        "colab": {
          "base_uri": "https://localhost:8080/"
        },
        "id": "6p7sdMoBMBXi",
        "outputId": "1bc5eedc-6795-437a-e8a7-77a539cf2912"
      },
      "source": [
        "model = Sequential()\n",
        "model.add(LSTM(100, input_shape=(train_X.shape[1], train_X.shape[2])))\n",
        "model.add(Dropout(0.2))\n",
        "#    model.add(LSTM(70))\n",
        "#    model.add(Dropout(0.3))\n",
        "model.add(Dense(1))\n",
        "model.compile(loss='mean_squared_error', optimizer='adam')\n",
        "\n",
        "# fit network\n",
        "history = model.fit(train_X, train_y, epochs=10, batch_size=70, validation_data=(test_X, test_y), verbose=2, shuffle=False)"
      ],
      "execution_count": null,
      "outputs": [
        {
          "output_type": "stream",
          "text": [
            "Epoch 1/10\n",
            "126/126 - 3s - loss: 0.0206 - val_loss: 0.0122\n",
            "Epoch 2/10\n",
            "126/126 - 1s - loss: 0.0128 - val_loss: 0.0107\n",
            "Epoch 3/10\n",
            "126/126 - 1s - loss: 0.0116 - val_loss: 0.0098\n",
            "Epoch 4/10\n",
            "126/126 - 1s - loss: 0.0109 - val_loss: 0.0094\n",
            "Epoch 5/10\n",
            "126/126 - 1s - loss: 0.0108 - val_loss: 0.0094\n",
            "Epoch 6/10\n",
            "126/126 - 1s - loss: 0.0108 - val_loss: 0.0092\n",
            "Epoch 7/10\n",
            "126/126 - 1s - loss: 0.0107 - val_loss: 0.0093\n",
            "Epoch 8/10\n",
            "126/126 - 1s - loss: 0.0107 - val_loss: 0.0093\n",
            "Epoch 9/10\n",
            "126/126 - 1s - loss: 0.0106 - val_loss: 0.0093\n",
            "Epoch 10/10\n",
            "126/126 - 1s - loss: 0.0107 - val_loss: 0.0092\n"
          ],
          "name": "stdout"
        }
      ]
    },
    {
      "cell_type": "code",
      "metadata": {
        "colab": {
          "base_uri": "https://localhost:8080/",
          "height": 313
        },
        "id": "BP_uL-OBMu-d",
        "outputId": "863a12a1-0886-4ad7-e588-10c4f29a6039"
      },
      "source": [
        "# summarize history for loss\n",
        "plt.plot(history.history['loss'])\n",
        "plt.plot(history.history['val_loss'])\n",
        "plt.title('model loss')\n",
        "plt.ylabel('loss')\n",
        "plt.xlabel('epoch')\n",
        "plt.legend(['train', 'test'], loc='upper right')\n",
        "plt.show()\n",
        "\n",
        "# make a prediction\n",
        "yhat = model.predict(test_X)\n",
        "test_X = test_X.reshape((test_X.shape[0], 7))\n",
        "# invert scaling for forecast\n",
        "inv_yhat = np.concatenate((yhat, test_X[:, -6:]), axis=1)\n",
        "inv_yhat = scaler.inverse_transform(inv_yhat)\n",
        "inv_yhat = inv_yhat[:,0]\n",
        "# invert scaling for actual\n",
        "test_y = test_y.reshape((len(test_y), 1))\n",
        "inv_y = np.concatenate((test_y, test_X[:, -6:]), axis=1)\n",
        "inv_y = scaler.inverse_transform(inv_y)\n",
        "inv_y = inv_y[:,0]\n",
        "# calculate RMSE\n",
        "rmse = np.sqrt(mean_squared_error(inv_y, inv_yhat))\n",
        "print('Test RMSE: %.3f' % rmse)"
      ],
      "execution_count": null,
      "outputs": [
        {
          "output_type": "display_data",
          "data": {
            "image/png": "[encoded data removed]",
            "text/plain": [
              "<Figure size 432x288 with 1 Axes>"
            ]
          },
          "metadata": {
            "tags": [],
            "needs_background": "light"
          }
        },
        {
          "output_type": "stream",
          "text": [
            "Test RMSE: 0.619\n"
          ],
          "name": "stdout"
        }
      ]
    },
    {
      "cell_type": "code",
      "metadata": {
        "colab": {
          "base_uri": "https://localhost:8080/",
          "height": 284
        },
        "id": "6ajBcYuVMgIn",
        "outputId": "46add05e-f7f6-4124-b1cf-ba1949a493f6"
      },
      "source": [
        "## time steps, every step is one hour (you can easily convert the time step to the actual time index)\n",
        "## for a demonstration purpose, I only compare the predictions in 200 hours.\n",
        "\n",
        "aa=[x for x in range(200)]\n",
        "plt.plot(aa, inv_y[:200], marker='.', label=\"actual\")\n",
        "plt.plot(aa, inv_yhat[:200], 'r', label=\"prediction\")\n",
        "plt.ylabel('Global_active_power', size=15)\n",
        "plt.xlabel('Time step', size=15)\n",
        "plt.legend(fontsize=15)\n",
        "plt.show()"
      ],
      "execution_count": null,
      "outputs": [
        {
          "output_type": "display_data",
          "data": {
            "image/png": "[encoded data removed]",
            "text/plain": [
              "<Figure size 432x288 with 1 Axes>"
            ]
          },
          "metadata": {
            "tags": [],
            "needs_background": "light"
          }
        }
      ]
    },
    {
      "cell_type": "code",
      "metadata": {
        "colab": {
          "base_uri": "https://localhost:8080/"
        },
        "id": "B_1SDcfkMoYZ",
        "outputId": "31c418c0-2781-42e5-837c-a45983f488c9"
      },
      "source": [
        "inv_y #실제 값"
      ],
      "execution_count": null,
      "outputs": [
        {
          "output_type": "execute_result",
          "data": {
            "text/plain": [
              "array([1.33906667, 1.60146667, 1.8706    , ..., 1.65933333, 1.1637    ,\n",
              "       0.93466667])"
            ]
          },
          "metadata": {
            "tags": []
          },
          "execution_count": 220
        }
      ]
    }
  ]
}